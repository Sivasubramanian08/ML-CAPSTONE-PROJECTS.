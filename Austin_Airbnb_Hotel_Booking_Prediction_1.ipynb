{
  "nbformat": 4,
  "nbformat_minor": 0,
  "metadata": {
    "colab": {
      "provenance": []
    },
    "kernelspec": {
      "name": "python3",
      "display_name": "Python 3"
    },
    "language_info": {
      "name": "python"
    }
  },
  "cells": [
    {
      "cell_type": "markdown",
      "source": [
        "## PROBLEM STATEMENT\n",
        "\n",
        "**1.** **Airbnb is one of the most popular platforms for booking short-term rentals in Austin, offering a wide variety of accommodations ranging from private rooms to entire homes.**\n",
        "\n",
        "**2.** **The goal of this project is to predict Airbnb bookings in real-time.**\n",
        "\n",
        "**3.**  **Here in this project, i developed a model trained on one of the largest open datasets of hotel bookings in Austin, Texas.**"
      ],
      "metadata": {
        "id": "YvEZcHaUoVTn"
      }
    },
    {
      "cell_type": "markdown",
      "source": [
        "**STEPS INVOLVED IN BUILDING AN ML MODEL FOR THE PROJECT**\n",
        "\n",
        "\n",
        "**1.** **IMPORTING NECESSARY LIBRARIES FOR PREDICTION.**\n",
        "\n",
        "**2.** **BASIC EXPLORATION OF DATASET**\n",
        "\n",
        "**3.** **DEALING WITH MISSING VALUES.**\n",
        "\n",
        "**4.** **VISUALIZATION OF EACH INDEPENDENT FEATURES AND HOW FEATURES ARE DISTRIBUTED**\n",
        "\n",
        "**5.** **DEALING WITH SKEWED DATA AND HANDLING OUTLIERS IF POSSIBLE**\n",
        "\n",
        "**6.** **PERFORMING FEATURE SCALING USING STANDARDSCALER.**\n",
        "\n",
        "**7.** **SPLITTING THE DATASET AS TRAINING AND TEST VALIDATION.**\n",
        "\n",
        "**8.** **TRAINING THE DATASET USING ML MODEL.**\n",
        "\n",
        "**9.** **EVALUATING THE TRAINED ML MODEL WITH TEST DATA USING EVALUATION METRICS TO SEE WHICH MODEL IS BEST FIT.**"
      ],
      "metadata": {
        "id": "EB4-mxzqqR0P"
      }
    },
    {
      "cell_type": "markdown",
      "source": [
        "**STEP 1.**  **IMPORTING NECESSARY LIBRARIES FOR PREDICTION.**"
      ],
      "metadata": {
        "id": "dnNWL4YirgLC"
      }
    },
    {
      "cell_type": "code",
      "execution_count": 1,
      "metadata": {
        "id": "LpyXD572TzKr"
      },
      "outputs": [],
      "source": [
        "# IMPORTING NECESSARY LIBRARIES.\n",
        "\n",
        "import pandas as pd\n",
        "import numpy as np\n",
        "import matplotlib.pyplot as plt\n",
        "import seaborn as sns\n",
        "%matplotlib inline\n",
        "from sklearn.model_selection import train_test_split\n",
        "import warnings\n",
        "warnings.filterwarnings(\"ignore\")"
      ]
    },
    {
      "cell_type": "code",
      "source": [
        "# READING THE DATASET USING PANDAS.\n",
        "\n",
        "df1 = pd.read_csv(\"listings.csv\")\n",
        "df1.head()"
      ],
      "metadata": {
        "colab": {
          "base_uri": "https://localhost:8080/",
          "height": 530
        },
        "id": "_dMV02UUUB7q",
        "outputId": "f2860873-4e37-4842-e0cf-1690e5e0dce8"
      },
      "execution_count": 2,
      "outputs": [
        {
          "output_type": "execute_result",
          "data": {
            "text/plain": [
              "       id                                    name  host_id host_name  \\\n",
              "0  329172     Hillside designer home,10 min.dwntn  1680871     Janet   \n",
              "1  329306  Urban Homestead, 5 minutes to downtown   880571     Angel   \n",
              "2  331549          One Room with Private Bathroom  1690383    Sandra   \n",
              "3  333815           Solar Sanctuary - Austin Room   372962       Kim   \n",
              "4  333442              Rare Secluded 1940s Estate  1698318  Virginia   \n",
              "\n",
              "   neighbourhood_group  neighbourhood  latitude  longitude        room_type  \\\n",
              "0                  NaN          78746  30.30085  -97.80794  Entire home/apt   \n",
              "1                  NaN          78702  30.27232  -97.72579     Private room   \n",
              "2                  NaN          78725  30.23911  -97.58625     Private room   \n",
              "3                  NaN          78704  30.25381  -97.75262     Private room   \n",
              "4                  NaN          78703  30.31267  -97.76641  Entire home/apt   \n",
              "\n",
              "   price  minimum_nights  number_of_reviews last_review  reviews_per_month  \\\n",
              "0    495               3                  7  2022-08-07               0.05   \n",
              "1     63               2                570  2022-11-30               4.36   \n",
              "2    100               2                  0         NaN                NaN   \n",
              "3    102               2                164  2022-10-24               1.26   \n",
              "4    286               3                163  2022-11-12               1.32   \n",
              "\n",
              "   calculated_host_listings_count  availability_365  number_of_reviews_ltm  \\\n",
              "0                               1               363                      1   \n",
              "1                               5                55                     45   \n",
              "2                               1                 0                      0   \n",
              "3                               1                36                     18   \n",
              "4                               1               271                     15   \n",
              "\n",
              "   license  \n",
              "0      NaN  \n",
              "1      NaN  \n",
              "2      NaN  \n",
              "3      NaN  \n",
              "4      NaN  "
            ],
            "text/html": [
              "\n",
              "  <div id=\"df-4d46a663-94d4-4456-bcff-69fa4ed73489\">\n",
              "    <div class=\"colab-df-container\">\n",
              "      <div>\n",
              "<style scoped>\n",
              "    .dataframe tbody tr th:only-of-type {\n",
              "        vertical-align: middle;\n",
              "    }\n",
              "\n",
              "    .dataframe tbody tr th {\n",
              "        vertical-align: top;\n",
              "    }\n",
              "\n",
              "    .dataframe thead th {\n",
              "        text-align: right;\n",
              "    }\n",
              "</style>\n",
              "<table border=\"1\" class=\"dataframe\">\n",
              "  <thead>\n",
              "    <tr style=\"text-align: right;\">\n",
              "      <th></th>\n",
              "      <th>id</th>\n",
              "      <th>name</th>\n",
              "      <th>host_id</th>\n",
              "      <th>host_name</th>\n",
              "      <th>neighbourhood_group</th>\n",
              "      <th>neighbourhood</th>\n",
              "      <th>latitude</th>\n",
              "      <th>longitude</th>\n",
              "      <th>room_type</th>\n",
              "      <th>price</th>\n",
              "      <th>minimum_nights</th>\n",
              "      <th>number_of_reviews</th>\n",
              "      <th>last_review</th>\n",
              "      <th>reviews_per_month</th>\n",
              "      <th>calculated_host_listings_count</th>\n",
              "      <th>availability_365</th>\n",
              "      <th>number_of_reviews_ltm</th>\n",
              "      <th>license</th>\n",
              "    </tr>\n",
              "  </thead>\n",
              "  <tbody>\n",
              "    <tr>\n",
              "      <th>0</th>\n",
              "      <td>329172</td>\n",
              "      <td>Hillside designer home,10 min.dwntn</td>\n",
              "      <td>1680871</td>\n",
              "      <td>Janet</td>\n",
              "      <td>NaN</td>\n",
              "      <td>78746</td>\n",
              "      <td>30.30085</td>\n",
              "      <td>-97.80794</td>\n",
              "      <td>Entire home/apt</td>\n",
              "      <td>495</td>\n",
              "      <td>3</td>\n",
              "      <td>7</td>\n",
              "      <td>2022-08-07</td>\n",
              "      <td>0.05</td>\n",
              "      <td>1</td>\n",
              "      <td>363</td>\n",
              "      <td>1</td>\n",
              "      <td>NaN</td>\n",
              "    </tr>\n",
              "    <tr>\n",
              "      <th>1</th>\n",
              "      <td>329306</td>\n",
              "      <td>Urban Homestead, 5 minutes to downtown</td>\n",
              "      <td>880571</td>\n",
              "      <td>Angel</td>\n",
              "      <td>NaN</td>\n",
              "      <td>78702</td>\n",
              "      <td>30.27232</td>\n",
              "      <td>-97.72579</td>\n",
              "      <td>Private room</td>\n",
              "      <td>63</td>\n",
              "      <td>2</td>\n",
              "      <td>570</td>\n",
              "      <td>2022-11-30</td>\n",
              "      <td>4.36</td>\n",
              "      <td>5</td>\n",
              "      <td>55</td>\n",
              "      <td>45</td>\n",
              "      <td>NaN</td>\n",
              "    </tr>\n",
              "    <tr>\n",
              "      <th>2</th>\n",
              "      <td>331549</td>\n",
              "      <td>One Room with Private Bathroom</td>\n",
              "      <td>1690383</td>\n",
              "      <td>Sandra</td>\n",
              "      <td>NaN</td>\n",
              "      <td>78725</td>\n",
              "      <td>30.23911</td>\n",
              "      <td>-97.58625</td>\n",
              "      <td>Private room</td>\n",
              "      <td>100</td>\n",
              "      <td>2</td>\n",
              "      <td>0</td>\n",
              "      <td>NaN</td>\n",
              "      <td>NaN</td>\n",
              "      <td>1</td>\n",
              "      <td>0</td>\n",
              "      <td>0</td>\n",
              "      <td>NaN</td>\n",
              "    </tr>\n",
              "    <tr>\n",
              "      <th>3</th>\n",
              "      <td>333815</td>\n",
              "      <td>Solar Sanctuary - Austin Room</td>\n",
              "      <td>372962</td>\n",
              "      <td>Kim</td>\n",
              "      <td>NaN</td>\n",
              "      <td>78704</td>\n",
              "      <td>30.25381</td>\n",
              "      <td>-97.75262</td>\n",
              "      <td>Private room</td>\n",
              "      <td>102</td>\n",
              "      <td>2</td>\n",
              "      <td>164</td>\n",
              "      <td>2022-10-24</td>\n",
              "      <td>1.26</td>\n",
              "      <td>1</td>\n",
              "      <td>36</td>\n",
              "      <td>18</td>\n",
              "      <td>NaN</td>\n",
              "    </tr>\n",
              "    <tr>\n",
              "      <th>4</th>\n",
              "      <td>333442</td>\n",
              "      <td>Rare Secluded 1940s Estate</td>\n",
              "      <td>1698318</td>\n",
              "      <td>Virginia</td>\n",
              "      <td>NaN</td>\n",
              "      <td>78703</td>\n",
              "      <td>30.31267</td>\n",
              "      <td>-97.76641</td>\n",
              "      <td>Entire home/apt</td>\n",
              "      <td>286</td>\n",
              "      <td>3</td>\n",
              "      <td>163</td>\n",
              "      <td>2022-11-12</td>\n",
              "      <td>1.32</td>\n",
              "      <td>1</td>\n",
              "      <td>271</td>\n",
              "      <td>15</td>\n",
              "      <td>NaN</td>\n",
              "    </tr>\n",
              "  </tbody>\n",
              "</table>\n",
              "</div>\n",
              "      <button class=\"colab-df-convert\" onclick=\"convertToInteractive('df-4d46a663-94d4-4456-bcff-69fa4ed73489')\"\n",
              "              title=\"Convert this dataframe to an interactive table.\"\n",
              "              style=\"display:none;\">\n",
              "        \n",
              "  <svg xmlns=\"http://www.w3.org/2000/svg\" height=\"24px\"viewBox=\"0 0 24 24\"\n",
              "       width=\"24px\">\n",
              "    <path d=\"M0 0h24v24H0V0z\" fill=\"none\"/>\n",
              "    <path d=\"M18.56 5.44l.94 2.06.94-2.06 2.06-.94-2.06-.94-.94-2.06-.94 2.06-2.06.94zm-11 1L8.5 8.5l.94-2.06 2.06-.94-2.06-.94L8.5 2.5l-.94 2.06-2.06.94zm10 10l.94 2.06.94-2.06 2.06-.94-2.06-.94-.94-2.06-.94 2.06-2.06.94z\"/><path d=\"M17.41 7.96l-1.37-1.37c-.4-.4-.92-.59-1.43-.59-.52 0-1.04.2-1.43.59L10.3 9.45l-7.72 7.72c-.78.78-.78 2.05 0 2.83L4 21.41c.39.39.9.59 1.41.59.51 0 1.02-.2 1.41-.59l7.78-7.78 2.81-2.81c.8-.78.8-2.07 0-2.86zM5.41 20L4 18.59l7.72-7.72 1.47 1.35L5.41 20z\"/>\n",
              "  </svg>\n",
              "      </button>\n",
              "      \n",
              "  <style>\n",
              "    .colab-df-container {\n",
              "      display:flex;\n",
              "      flex-wrap:wrap;\n",
              "      gap: 12px;\n",
              "    }\n",
              "\n",
              "    .colab-df-convert {\n",
              "      background-color: #E8F0FE;\n",
              "      border: none;\n",
              "      border-radius: 50%;\n",
              "      cursor: pointer;\n",
              "      display: none;\n",
              "      fill: #1967D2;\n",
              "      height: 32px;\n",
              "      padding: 0 0 0 0;\n",
              "      width: 32px;\n",
              "    }\n",
              "\n",
              "    .colab-df-convert:hover {\n",
              "      background-color: #E2EBFA;\n",
              "      box-shadow: 0px 1px 2px rgba(60, 64, 67, 0.3), 0px 1px 3px 1px rgba(60, 64, 67, 0.15);\n",
              "      fill: #174EA6;\n",
              "    }\n",
              "\n",
              "    [theme=dark] .colab-df-convert {\n",
              "      background-color: #3B4455;\n",
              "      fill: #D2E3FC;\n",
              "    }\n",
              "\n",
              "    [theme=dark] .colab-df-convert:hover {\n",
              "      background-color: #434B5C;\n",
              "      box-shadow: 0px 1px 3px 1px rgba(0, 0, 0, 0.15);\n",
              "      filter: drop-shadow(0px 1px 2px rgba(0, 0, 0, 0.3));\n",
              "      fill: #FFFFFF;\n",
              "    }\n",
              "  </style>\n",
              "\n",
              "      <script>\n",
              "        const buttonEl =\n",
              "          document.querySelector('#df-4d46a663-94d4-4456-bcff-69fa4ed73489 button.colab-df-convert');\n",
              "        buttonEl.style.display =\n",
              "          google.colab.kernel.accessAllowed ? 'block' : 'none';\n",
              "\n",
              "        async function convertToInteractive(key) {\n",
              "          const element = document.querySelector('#df-4d46a663-94d4-4456-bcff-69fa4ed73489');\n",
              "          const dataTable =\n",
              "            await google.colab.kernel.invokeFunction('convertToInteractive',\n",
              "                                                     [key], {});\n",
              "          if (!dataTable) return;\n",
              "\n",
              "          const docLinkHtml = 'Like what you see? Visit the ' +\n",
              "            '<a target=\"_blank\" href=https://colab.research.google.com/notebooks/data_table.ipynb>data table notebook</a>'\n",
              "            + ' to learn more about interactive tables.';\n",
              "          element.innerHTML = '';\n",
              "          dataTable['output_type'] = 'display_data';\n",
              "          await google.colab.output.renderOutput(dataTable, element);\n",
              "          const docLink = document.createElement('div');\n",
              "          docLink.innerHTML = docLinkHtml;\n",
              "          element.appendChild(docLink);\n",
              "        }\n",
              "      </script>\n",
              "    </div>\n",
              "  </div>\n",
              "  "
            ]
          },
          "metadata": {},
          "execution_count": 2
        }
      ]
    },
    {
      "cell_type": "code",
      "source": [
        "# CREATING A COPY OF DATASET SO THAT ORIGINAL DATASET KEPT SAFE.\n",
        "\n",
        "df = df1.copy()"
      ],
      "metadata": {
        "id": "F_ZHm-vOUD9D"
      },
      "execution_count": 3,
      "outputs": []
    },
    {
      "cell_type": "markdown",
      "source": [
        "**STEP 2.**  **BASIC EXPLORATION OF DATASET.**"
      ],
      "metadata": {
        "id": "qxrS-pfFskmn"
      }
    },
    {
      "cell_type": "code",
      "source": [
        "# VIEWING COLUMNS OF THE DATASET.\n",
        "\n",
        "df.columns"
      ],
      "metadata": {
        "colab": {
          "base_uri": "https://localhost:8080/"
        },
        "id": "eyl7tYwqUFrH",
        "outputId": "e72e6ea7-e9e2-40b1-a6a4-780e5f048eee"
      },
      "execution_count": 4,
      "outputs": [
        {
          "output_type": "execute_result",
          "data": {
            "text/plain": [
              "Index(['id', 'name', 'host_id', 'host_name', 'neighbourhood_group',\n",
              "       'neighbourhood', 'latitude', 'longitude', 'room_type', 'price',\n",
              "       'minimum_nights', 'number_of_reviews', 'last_review',\n",
              "       'reviews_per_month', 'calculated_host_listings_count',\n",
              "       'availability_365', 'number_of_reviews_ltm', 'license'],\n",
              "      dtype='object')"
            ]
          },
          "metadata": {},
          "execution_count": 4
        }
      ]
    },
    {
      "cell_type": "code",
      "source": [
        "# VIEWING TOP 5 RECORDS OF THE DATASET.\n",
        "\n",
        "df.head()"
      ],
      "metadata": {
        "colab": {
          "base_uri": "https://localhost:8080/",
          "height": 530
        },
        "id": "GUyqr5luUIoR",
        "outputId": "f693093d-3b8f-4e99-ed7c-a8604b2b8a9f"
      },
      "execution_count": 5,
      "outputs": [
        {
          "output_type": "execute_result",
          "data": {
            "text/plain": [
              "       id                                    name  host_id host_name  \\\n",
              "0  329172     Hillside designer home,10 min.dwntn  1680871     Janet   \n",
              "1  329306  Urban Homestead, 5 minutes to downtown   880571     Angel   \n",
              "2  331549          One Room with Private Bathroom  1690383    Sandra   \n",
              "3  333815           Solar Sanctuary - Austin Room   372962       Kim   \n",
              "4  333442              Rare Secluded 1940s Estate  1698318  Virginia   \n",
              "\n",
              "   neighbourhood_group  neighbourhood  latitude  longitude        room_type  \\\n",
              "0                  NaN          78746  30.30085  -97.80794  Entire home/apt   \n",
              "1                  NaN          78702  30.27232  -97.72579     Private room   \n",
              "2                  NaN          78725  30.23911  -97.58625     Private room   \n",
              "3                  NaN          78704  30.25381  -97.75262     Private room   \n",
              "4                  NaN          78703  30.31267  -97.76641  Entire home/apt   \n",
              "\n",
              "   price  minimum_nights  number_of_reviews last_review  reviews_per_month  \\\n",
              "0    495               3                  7  2022-08-07               0.05   \n",
              "1     63               2                570  2022-11-30               4.36   \n",
              "2    100               2                  0         NaN                NaN   \n",
              "3    102               2                164  2022-10-24               1.26   \n",
              "4    286               3                163  2022-11-12               1.32   \n",
              "\n",
              "   calculated_host_listings_count  availability_365  number_of_reviews_ltm  \\\n",
              "0                               1               363                      1   \n",
              "1                               5                55                     45   \n",
              "2                               1                 0                      0   \n",
              "3                               1                36                     18   \n",
              "4                               1               271                     15   \n",
              "\n",
              "   license  \n",
              "0      NaN  \n",
              "1      NaN  \n",
              "2      NaN  \n",
              "3      NaN  \n",
              "4      NaN  "
            ],
            "text/html": [
              "\n",
              "  <div id=\"df-e9cec7ea-4c5a-475b-9362-1a987807991c\">\n",
              "    <div class=\"colab-df-container\">\n",
              "      <div>\n",
              "<style scoped>\n",
              "    .dataframe tbody tr th:only-of-type {\n",
              "        vertical-align: middle;\n",
              "    }\n",
              "\n",
              "    .dataframe tbody tr th {\n",
              "        vertical-align: top;\n",
              "    }\n",
              "\n",
              "    .dataframe thead th {\n",
              "        text-align: right;\n",
              "    }\n",
              "</style>\n",
              "<table border=\"1\" class=\"dataframe\">\n",
              "  <thead>\n",
              "    <tr style=\"text-align: right;\">\n",
              "      <th></th>\n",
              "      <th>id</th>\n",
              "      <th>name</th>\n",
              "      <th>host_id</th>\n",
              "      <th>host_name</th>\n",
              "      <th>neighbourhood_group</th>\n",
              "      <th>neighbourhood</th>\n",
              "      <th>latitude</th>\n",
              "      <th>longitude</th>\n",
              "      <th>room_type</th>\n",
              "      <th>price</th>\n",
              "      <th>minimum_nights</th>\n",
              "      <th>number_of_reviews</th>\n",
              "      <th>last_review</th>\n",
              "      <th>reviews_per_month</th>\n",
              "      <th>calculated_host_listings_count</th>\n",
              "      <th>availability_365</th>\n",
              "      <th>number_of_reviews_ltm</th>\n",
              "      <th>license</th>\n",
              "    </tr>\n",
              "  </thead>\n",
              "  <tbody>\n",
              "    <tr>\n",
              "      <th>0</th>\n",
              "      <td>329172</td>\n",
              "      <td>Hillside designer home,10 min.dwntn</td>\n",
              "      <td>1680871</td>\n",
              "      <td>Janet</td>\n",
              "      <td>NaN</td>\n",
              "      <td>78746</td>\n",
              "      <td>30.30085</td>\n",
              "      <td>-97.80794</td>\n",
              "      <td>Entire home/apt</td>\n",
              "      <td>495</td>\n",
              "      <td>3</td>\n",
              "      <td>7</td>\n",
              "      <td>2022-08-07</td>\n",
              "      <td>0.05</td>\n",
              "      <td>1</td>\n",
              "      <td>363</td>\n",
              "      <td>1</td>\n",
              "      <td>NaN</td>\n",
              "    </tr>\n",
              "    <tr>\n",
              "      <th>1</th>\n",
              "      <td>329306</td>\n",
              "      <td>Urban Homestead, 5 minutes to downtown</td>\n",
              "      <td>880571</td>\n",
              "      <td>Angel</td>\n",
              "      <td>NaN</td>\n",
              "      <td>78702</td>\n",
              "      <td>30.27232</td>\n",
              "      <td>-97.72579</td>\n",
              "      <td>Private room</td>\n",
              "      <td>63</td>\n",
              "      <td>2</td>\n",
              "      <td>570</td>\n",
              "      <td>2022-11-30</td>\n",
              "      <td>4.36</td>\n",
              "      <td>5</td>\n",
              "      <td>55</td>\n",
              "      <td>45</td>\n",
              "      <td>NaN</td>\n",
              "    </tr>\n",
              "    <tr>\n",
              "      <th>2</th>\n",
              "      <td>331549</td>\n",
              "      <td>One Room with Private Bathroom</td>\n",
              "      <td>1690383</td>\n",
              "      <td>Sandra</td>\n",
              "      <td>NaN</td>\n",
              "      <td>78725</td>\n",
              "      <td>30.23911</td>\n",
              "      <td>-97.58625</td>\n",
              "      <td>Private room</td>\n",
              "      <td>100</td>\n",
              "      <td>2</td>\n",
              "      <td>0</td>\n",
              "      <td>NaN</td>\n",
              "      <td>NaN</td>\n",
              "      <td>1</td>\n",
              "      <td>0</td>\n",
              "      <td>0</td>\n",
              "      <td>NaN</td>\n",
              "    </tr>\n",
              "    <tr>\n",
              "      <th>3</th>\n",
              "      <td>333815</td>\n",
              "      <td>Solar Sanctuary - Austin Room</td>\n",
              "      <td>372962</td>\n",
              "      <td>Kim</td>\n",
              "      <td>NaN</td>\n",
              "      <td>78704</td>\n",
              "      <td>30.25381</td>\n",
              "      <td>-97.75262</td>\n",
              "      <td>Private room</td>\n",
              "      <td>102</td>\n",
              "      <td>2</td>\n",
              "      <td>164</td>\n",
              "      <td>2022-10-24</td>\n",
              "      <td>1.26</td>\n",
              "      <td>1</td>\n",
              "      <td>36</td>\n",
              "      <td>18</td>\n",
              "      <td>NaN</td>\n",
              "    </tr>\n",
              "    <tr>\n",
              "      <th>4</th>\n",
              "      <td>333442</td>\n",
              "      <td>Rare Secluded 1940s Estate</td>\n",
              "      <td>1698318</td>\n",
              "      <td>Virginia</td>\n",
              "      <td>NaN</td>\n",
              "      <td>78703</td>\n",
              "      <td>30.31267</td>\n",
              "      <td>-97.76641</td>\n",
              "      <td>Entire home/apt</td>\n",
              "      <td>286</td>\n",
              "      <td>3</td>\n",
              "      <td>163</td>\n",
              "      <td>2022-11-12</td>\n",
              "      <td>1.32</td>\n",
              "      <td>1</td>\n",
              "      <td>271</td>\n",
              "      <td>15</td>\n",
              "      <td>NaN</td>\n",
              "    </tr>\n",
              "  </tbody>\n",
              "</table>\n",
              "</div>\n",
              "      <button class=\"colab-df-convert\" onclick=\"convertToInteractive('df-e9cec7ea-4c5a-475b-9362-1a987807991c')\"\n",
              "              title=\"Convert this dataframe to an interactive table.\"\n",
              "              style=\"display:none;\">\n",
              "        \n",
              "  <svg xmlns=\"http://www.w3.org/2000/svg\" height=\"24px\"viewBox=\"0 0 24 24\"\n",
              "       width=\"24px\">\n",
              "    <path d=\"M0 0h24v24H0V0z\" fill=\"none\"/>\n",
              "    <path d=\"M18.56 5.44l.94 2.06.94-2.06 2.06-.94-2.06-.94-.94-2.06-.94 2.06-2.06.94zm-11 1L8.5 8.5l.94-2.06 2.06-.94-2.06-.94L8.5 2.5l-.94 2.06-2.06.94zm10 10l.94 2.06.94-2.06 2.06-.94-2.06-.94-.94-2.06-.94 2.06-2.06.94z\"/><path d=\"M17.41 7.96l-1.37-1.37c-.4-.4-.92-.59-1.43-.59-.52 0-1.04.2-1.43.59L10.3 9.45l-7.72 7.72c-.78.78-.78 2.05 0 2.83L4 21.41c.39.39.9.59 1.41.59.51 0 1.02-.2 1.41-.59l7.78-7.78 2.81-2.81c.8-.78.8-2.07 0-2.86zM5.41 20L4 18.59l7.72-7.72 1.47 1.35L5.41 20z\"/>\n",
              "  </svg>\n",
              "      </button>\n",
              "      \n",
              "  <style>\n",
              "    .colab-df-container {\n",
              "      display:flex;\n",
              "      flex-wrap:wrap;\n",
              "      gap: 12px;\n",
              "    }\n",
              "\n",
              "    .colab-df-convert {\n",
              "      background-color: #E8F0FE;\n",
              "      border: none;\n",
              "      border-radius: 50%;\n",
              "      cursor: pointer;\n",
              "      display: none;\n",
              "      fill: #1967D2;\n",
              "      height: 32px;\n",
              "      padding: 0 0 0 0;\n",
              "      width: 32px;\n",
              "    }\n",
              "\n",
              "    .colab-df-convert:hover {\n",
              "      background-color: #E2EBFA;\n",
              "      box-shadow: 0px 1px 2px rgba(60, 64, 67, 0.3), 0px 1px 3px 1px rgba(60, 64, 67, 0.15);\n",
              "      fill: #174EA6;\n",
              "    }\n",
              "\n",
              "    [theme=dark] .colab-df-convert {\n",
              "      background-color: #3B4455;\n",
              "      fill: #D2E3FC;\n",
              "    }\n",
              "\n",
              "    [theme=dark] .colab-df-convert:hover {\n",
              "      background-color: #434B5C;\n",
              "      box-shadow: 0px 1px 3px 1px rgba(0, 0, 0, 0.15);\n",
              "      filter: drop-shadow(0px 1px 2px rgba(0, 0, 0, 0.3));\n",
              "      fill: #FFFFFF;\n",
              "    }\n",
              "  </style>\n",
              "\n",
              "      <script>\n",
              "        const buttonEl =\n",
              "          document.querySelector('#df-e9cec7ea-4c5a-475b-9362-1a987807991c button.colab-df-convert');\n",
              "        buttonEl.style.display =\n",
              "          google.colab.kernel.accessAllowed ? 'block' : 'none';\n",
              "\n",
              "        async function convertToInteractive(key) {\n",
              "          const element = document.querySelector('#df-e9cec7ea-4c5a-475b-9362-1a987807991c');\n",
              "          const dataTable =\n",
              "            await google.colab.kernel.invokeFunction('convertToInteractive',\n",
              "                                                     [key], {});\n",
              "          if (!dataTable) return;\n",
              "\n",
              "          const docLinkHtml = 'Like what you see? Visit the ' +\n",
              "            '<a target=\"_blank\" href=https://colab.research.google.com/notebooks/data_table.ipynb>data table notebook</a>'\n",
              "            + ' to learn more about interactive tables.';\n",
              "          element.innerHTML = '';\n",
              "          dataTable['output_type'] = 'display_data';\n",
              "          await google.colab.output.renderOutput(dataTable, element);\n",
              "          const docLink = document.createElement('div');\n",
              "          docLink.innerHTML = docLinkHtml;\n",
              "          element.appendChild(docLink);\n",
              "        }\n",
              "      </script>\n",
              "    </div>\n",
              "  </div>\n",
              "  "
            ]
          },
          "metadata": {},
          "execution_count": 5
        }
      ]
    },
    {
      "cell_type": "code",
      "source": [
        "# VIEWING SHAPE OF THE DATASET.\n",
        "\n",
        "df.shape"
      ],
      "metadata": {
        "colab": {
          "base_uri": "https://localhost:8080/"
        },
        "id": "D1SzeuNzs3L_",
        "outputId": "2075a9f8-6de8-48c3-d99e-b776cb1bd935"
      },
      "execution_count": 6,
      "outputs": [
        {
          "output_type": "execute_result",
          "data": {
            "text/plain": [
              "(13808, 18)"
            ]
          },
          "metadata": {},
          "execution_count": 6
        }
      ]
    },
    {
      "cell_type": "code",
      "source": [
        "# CHECKING UNIQUE VALUES IN THE DATASET.\n",
        "\n",
        "df.nunique()"
      ],
      "metadata": {
        "colab": {
          "base_uri": "https://localhost:8080/"
        },
        "id": "L-fpXCPGtHG8",
        "outputId": "e8257891-0cf4-4859-ff0a-433d4384bfc7"
      },
      "execution_count": 7,
      "outputs": [
        {
          "output_type": "execute_result",
          "data": {
            "text/plain": [
              "id                                13808\n",
              "name                              13445\n",
              "host_id                            8294\n",
              "host_name                          3246\n",
              "neighbourhood_group                   0\n",
              "neighbourhood                        44\n",
              "latitude                          10080\n",
              "longitude                          9518\n",
              "room_type                             4\n",
              "price                               964\n",
              "minimum_nights                       60\n",
              "number_of_reviews                   469\n",
              "last_review                        1342\n",
              "reviews_per_month                   803\n",
              "calculated_host_listings_count       49\n",
              "availability_365                    366\n",
              "number_of_reviews_ltm               137\n",
              "license                               0\n",
              "dtype: int64"
            ]
          },
          "metadata": {},
          "execution_count": 7
        }
      ]
    },
    {
      "cell_type": "code",
      "source": [
        "# CHECKING THE DATASET IF NULL VALUES ARE PRESENT IN EACH COLUMNS OR NOT.\n",
        "\n",
        "df.isnull().sum()"
      ],
      "metadata": {
        "colab": {
          "base_uri": "https://localhost:8080/"
        },
        "id": "-eXK4T0atMpo",
        "outputId": "e86ce973-e348-42fe-b24a-f69bfe7370b2"
      },
      "execution_count": 8,
      "outputs": [
        {
          "output_type": "execute_result",
          "data": {
            "text/plain": [
              "id                                    0\n",
              "name                                  0\n",
              "host_id                               0\n",
              "host_name                             2\n",
              "neighbourhood_group               13808\n",
              "neighbourhood                         0\n",
              "latitude                              0\n",
              "longitude                             0\n",
              "room_type                             0\n",
              "price                                 0\n",
              "minimum_nights                        0\n",
              "number_of_reviews                     0\n",
              "last_review                        2860\n",
              "reviews_per_month                  2860\n",
              "calculated_host_listings_count        0\n",
              "availability_365                      0\n",
              "number_of_reviews_ltm                 0\n",
              "license                           13808\n",
              "dtype: int64"
            ]
          },
          "metadata": {},
          "execution_count": 8
        }
      ]
    },
    {
      "cell_type": "markdown",
      "source": [
        "**HERE FROM ABOVE CODE WE CAN SEE THAT THERE ARE SOME NaN VALUES PRESENT IN EACH COLUMN. IT SHOULD BE TREATED WITH NECESSARY IMPUTATION TECHNIQUE.**"
      ],
      "metadata": {
        "id": "FFcVcnFdtWfk"
      }
    },
    {
      "cell_type": "code",
      "source": [
        "# PERFORMING STATISTICAL CALCULATION ON ALL COLUMNS.\n",
        "\n",
        "df.describe(include = 'all')"
      ],
      "metadata": {
        "colab": {
          "base_uri": "https://localhost:8080/",
          "height": 545
        },
        "id": "JrSB_L07tk5d",
        "outputId": "d02fa9c2-f591-4584-f32a-979a2ceec6d5"
      },
      "execution_count": 10,
      "outputs": [
        {
          "output_type": "execute_result",
          "data": {
            "text/plain": [
              "                  id                                      name       host_id  \\\n",
              "count   1.380800e+04                                     13808  1.380800e+04   \n",
              "unique           NaN                                     13445           NaN   \n",
              "top              NaN  Stylish 1BR Near UT | Highland | Evonify           NaN   \n",
              "freq             NaN                                        24           NaN   \n",
              "mean    2.179221e+17                                       NaN  1.306572e+08   \n",
              "std     3.179150e+17                                       NaN  1.450757e+08   \n",
              "min     5.456000e+03                                       NaN  2.300000e+01   \n",
              "25%     2.273535e+07                                       NaN  1.562121e+07   \n",
              "50%     4.772066e+07                                       NaN  6.292611e+07   \n",
              "75%     6.108598e+17                                       NaN  2.171957e+08   \n",
              "max     7.820995e+17                                       NaN  4.909281e+08   \n",
              "\n",
              "       host_name  neighbourhood_group  neighbourhood      latitude  \\\n",
              "count      13806                  0.0   13808.000000  13808.000000   \n",
              "unique      3246                  NaN            NaN           NaN   \n",
              "top      Landing                  NaN            NaN           NaN   \n",
              "freq         150                  NaN            NaN           NaN   \n",
              "mean         NaN                  NaN   78724.506373     30.281656   \n",
              "std          NaN                  NaN      20.718885      0.064654   \n",
              "min          NaN                  NaN   78701.000000     30.078870   \n",
              "25%          NaN                  NaN   78704.000000     30.242189   \n",
              "50%          NaN                  NaN   78723.000000     30.269575   \n",
              "75%          NaN                  NaN   78745.000000     30.309210   \n",
              "max          NaN                  NaN   78759.000000     30.515090   \n",
              "\n",
              "           longitude        room_type         price  minimum_nights  \\\n",
              "count   13808.000000            13808  13808.000000    13808.000000   \n",
              "unique           NaN                4           NaN             NaN   \n",
              "top              NaN  Entire home/apt           NaN             NaN   \n",
              "freq             NaN            11306           NaN             NaN   \n",
              "mean      -97.750616              NaN    279.450753        7.686631   \n",
              "std         0.062743              NaN   1344.531412       24.929269   \n",
              "min       -98.056630              NaN      0.000000        1.000000   \n",
              "25%       -97.769575              NaN     89.000000        1.000000   \n",
              "50%       -97.741913              NaN    145.000000        2.000000   \n",
              "75%       -97.717300              NaN    255.250000        3.000000   \n",
              "max       -97.560620              NaN  90151.000000     1100.000000   \n",
              "\n",
              "        number_of_reviews last_review  reviews_per_month  \\\n",
              "count        13808.000000       10948       10948.000000   \n",
              "unique                NaN        1342                NaN   \n",
              "top                   NaN  2022-11-13                NaN   \n",
              "freq                  NaN         497                NaN   \n",
              "mean            35.263905         NaN           1.603619   \n",
              "std             76.308419         NaN           1.802300   \n",
              "min              0.000000         NaN           0.010000   \n",
              "25%              1.000000         NaN           0.290000   \n",
              "50%              7.000000         NaN           1.000000   \n",
              "75%             33.000000         NaN           2.340000   \n",
              "max           1086.000000         NaN          31.500000   \n",
              "\n",
              "        calculated_host_listings_count  availability_365  \\\n",
              "count                     13808.000000      13808.000000   \n",
              "unique                             NaN               NaN   \n",
              "top                                NaN               NaN   \n",
              "freq                               NaN               NaN   \n",
              "mean                         11.594148        154.425985   \n",
              "std                          25.941273        140.104042   \n",
              "min                           1.000000          0.000000   \n",
              "25%                           1.000000          0.000000   \n",
              "50%                           2.000000        114.000000   \n",
              "75%                           6.000000        312.000000   \n",
              "max                         150.000000        365.000000   \n",
              "\n",
              "        number_of_reviews_ltm  license  \n",
              "count            13808.000000      0.0  \n",
              "unique                    NaN      NaN  \n",
              "top                       NaN      NaN  \n",
              "freq                      NaN      NaN  \n",
              "mean                10.683444      NaN  \n",
              "std                 18.293831      NaN  \n",
              "min                  0.000000      NaN  \n",
              "25%                  0.000000      NaN  \n",
              "50%                  2.000000      NaN  \n",
              "75%                 14.000000      NaN  \n",
              "max                291.000000      NaN  "
            ],
            "text/html": [
              "\n",
              "  <div id=\"df-11718af2-b4d3-4540-8c1f-70bc9cb319b7\">\n",
              "    <div class=\"colab-df-container\">\n",
              "      <div>\n",
              "<style scoped>\n",
              "    .dataframe tbody tr th:only-of-type {\n",
              "        vertical-align: middle;\n",
              "    }\n",
              "\n",
              "    .dataframe tbody tr th {\n",
              "        vertical-align: top;\n",
              "    }\n",
              "\n",
              "    .dataframe thead th {\n",
              "        text-align: right;\n",
              "    }\n",
              "</style>\n",
              "<table border=\"1\" class=\"dataframe\">\n",
              "  <thead>\n",
              "    <tr style=\"text-align: right;\">\n",
              "      <th></th>\n",
              "      <th>id</th>\n",
              "      <th>name</th>\n",
              "      <th>host_id</th>\n",
              "      <th>host_name</th>\n",
              "      <th>neighbourhood_group</th>\n",
              "      <th>neighbourhood</th>\n",
              "      <th>latitude</th>\n",
              "      <th>longitude</th>\n",
              "      <th>room_type</th>\n",
              "      <th>price</th>\n",
              "      <th>minimum_nights</th>\n",
              "      <th>number_of_reviews</th>\n",
              "      <th>last_review</th>\n",
              "      <th>reviews_per_month</th>\n",
              "      <th>calculated_host_listings_count</th>\n",
              "      <th>availability_365</th>\n",
              "      <th>number_of_reviews_ltm</th>\n",
              "      <th>license</th>\n",
              "    </tr>\n",
              "  </thead>\n",
              "  <tbody>\n",
              "    <tr>\n",
              "      <th>count</th>\n",
              "      <td>1.380800e+04</td>\n",
              "      <td>13808</td>\n",
              "      <td>1.380800e+04</td>\n",
              "      <td>13806</td>\n",
              "      <td>0.0</td>\n",
              "      <td>13808.000000</td>\n",
              "      <td>13808.000000</td>\n",
              "      <td>13808.000000</td>\n",
              "      <td>13808</td>\n",
              "      <td>13808.000000</td>\n",
              "      <td>13808.000000</td>\n",
              "      <td>13808.000000</td>\n",
              "      <td>10948</td>\n",
              "      <td>10948.000000</td>\n",
              "      <td>13808.000000</td>\n",
              "      <td>13808.000000</td>\n",
              "      <td>13808.000000</td>\n",
              "      <td>0.0</td>\n",
              "    </tr>\n",
              "    <tr>\n",
              "      <th>unique</th>\n",
              "      <td>NaN</td>\n",
              "      <td>13445</td>\n",
              "      <td>NaN</td>\n",
              "      <td>3246</td>\n",
              "      <td>NaN</td>\n",
              "      <td>NaN</td>\n",
              "      <td>NaN</td>\n",
              "      <td>NaN</td>\n",
              "      <td>4</td>\n",
              "      <td>NaN</td>\n",
              "      <td>NaN</td>\n",
              "      <td>NaN</td>\n",
              "      <td>1342</td>\n",
              "      <td>NaN</td>\n",
              "      <td>NaN</td>\n",
              "      <td>NaN</td>\n",
              "      <td>NaN</td>\n",
              "      <td>NaN</td>\n",
              "    </tr>\n",
              "    <tr>\n",
              "      <th>top</th>\n",
              "      <td>NaN</td>\n",
              "      <td>Stylish 1BR Near UT | Highland | Evonify</td>\n",
              "      <td>NaN</td>\n",
              "      <td>Landing</td>\n",
              "      <td>NaN</td>\n",
              "      <td>NaN</td>\n",
              "      <td>NaN</td>\n",
              "      <td>NaN</td>\n",
              "      <td>Entire home/apt</td>\n",
              "      <td>NaN</td>\n",
              "      <td>NaN</td>\n",
              "      <td>NaN</td>\n",
              "      <td>2022-11-13</td>\n",
              "      <td>NaN</td>\n",
              "      <td>NaN</td>\n",
              "      <td>NaN</td>\n",
              "      <td>NaN</td>\n",
              "      <td>NaN</td>\n",
              "    </tr>\n",
              "    <tr>\n",
              "      <th>freq</th>\n",
              "      <td>NaN</td>\n",
              "      <td>24</td>\n",
              "      <td>NaN</td>\n",
              "      <td>150</td>\n",
              "      <td>NaN</td>\n",
              "      <td>NaN</td>\n",
              "      <td>NaN</td>\n",
              "      <td>NaN</td>\n",
              "      <td>11306</td>\n",
              "      <td>NaN</td>\n",
              "      <td>NaN</td>\n",
              "      <td>NaN</td>\n",
              "      <td>497</td>\n",
              "      <td>NaN</td>\n",
              "      <td>NaN</td>\n",
              "      <td>NaN</td>\n",
              "      <td>NaN</td>\n",
              "      <td>NaN</td>\n",
              "    </tr>\n",
              "    <tr>\n",
              "      <th>mean</th>\n",
              "      <td>2.179221e+17</td>\n",
              "      <td>NaN</td>\n",
              "      <td>1.306572e+08</td>\n",
              "      <td>NaN</td>\n",
              "      <td>NaN</td>\n",
              "      <td>78724.506373</td>\n",
              "      <td>30.281656</td>\n",
              "      <td>-97.750616</td>\n",
              "      <td>NaN</td>\n",
              "      <td>279.450753</td>\n",
              "      <td>7.686631</td>\n",
              "      <td>35.263905</td>\n",
              "      <td>NaN</td>\n",
              "      <td>1.603619</td>\n",
              "      <td>11.594148</td>\n",
              "      <td>154.425985</td>\n",
              "      <td>10.683444</td>\n",
              "      <td>NaN</td>\n",
              "    </tr>\n",
              "    <tr>\n",
              "      <th>std</th>\n",
              "      <td>3.179150e+17</td>\n",
              "      <td>NaN</td>\n",
              "      <td>1.450757e+08</td>\n",
              "      <td>NaN</td>\n",
              "      <td>NaN</td>\n",
              "      <td>20.718885</td>\n",
              "      <td>0.064654</td>\n",
              "      <td>0.062743</td>\n",
              "      <td>NaN</td>\n",
              "      <td>1344.531412</td>\n",
              "      <td>24.929269</td>\n",
              "      <td>76.308419</td>\n",
              "      <td>NaN</td>\n",
              "      <td>1.802300</td>\n",
              "      <td>25.941273</td>\n",
              "      <td>140.104042</td>\n",
              "      <td>18.293831</td>\n",
              "      <td>NaN</td>\n",
              "    </tr>\n",
              "    <tr>\n",
              "      <th>min</th>\n",
              "      <td>5.456000e+03</td>\n",
              "      <td>NaN</td>\n",
              "      <td>2.300000e+01</td>\n",
              "      <td>NaN</td>\n",
              "      <td>NaN</td>\n",
              "      <td>78701.000000</td>\n",
              "      <td>30.078870</td>\n",
              "      <td>-98.056630</td>\n",
              "      <td>NaN</td>\n",
              "      <td>0.000000</td>\n",
              "      <td>1.000000</td>\n",
              "      <td>0.000000</td>\n",
              "      <td>NaN</td>\n",
              "      <td>0.010000</td>\n",
              "      <td>1.000000</td>\n",
              "      <td>0.000000</td>\n",
              "      <td>0.000000</td>\n",
              "      <td>NaN</td>\n",
              "    </tr>\n",
              "    <tr>\n",
              "      <th>25%</th>\n",
              "      <td>2.273535e+07</td>\n",
              "      <td>NaN</td>\n",
              "      <td>1.562121e+07</td>\n",
              "      <td>NaN</td>\n",
              "      <td>NaN</td>\n",
              "      <td>78704.000000</td>\n",
              "      <td>30.242189</td>\n",
              "      <td>-97.769575</td>\n",
              "      <td>NaN</td>\n",
              "      <td>89.000000</td>\n",
              "      <td>1.000000</td>\n",
              "      <td>1.000000</td>\n",
              "      <td>NaN</td>\n",
              "      <td>0.290000</td>\n",
              "      <td>1.000000</td>\n",
              "      <td>0.000000</td>\n",
              "      <td>0.000000</td>\n",
              "      <td>NaN</td>\n",
              "    </tr>\n",
              "    <tr>\n",
              "      <th>50%</th>\n",
              "      <td>4.772066e+07</td>\n",
              "      <td>NaN</td>\n",
              "      <td>6.292611e+07</td>\n",
              "      <td>NaN</td>\n",
              "      <td>NaN</td>\n",
              "      <td>78723.000000</td>\n",
              "      <td>30.269575</td>\n",
              "      <td>-97.741913</td>\n",
              "      <td>NaN</td>\n",
              "      <td>145.000000</td>\n",
              "      <td>2.000000</td>\n",
              "      <td>7.000000</td>\n",
              "      <td>NaN</td>\n",
              "      <td>1.000000</td>\n",
              "      <td>2.000000</td>\n",
              "      <td>114.000000</td>\n",
              "      <td>2.000000</td>\n",
              "      <td>NaN</td>\n",
              "    </tr>\n",
              "    <tr>\n",
              "      <th>75%</th>\n",
              "      <td>6.108598e+17</td>\n",
              "      <td>NaN</td>\n",
              "      <td>2.171957e+08</td>\n",
              "      <td>NaN</td>\n",
              "      <td>NaN</td>\n",
              "      <td>78745.000000</td>\n",
              "      <td>30.309210</td>\n",
              "      <td>-97.717300</td>\n",
              "      <td>NaN</td>\n",
              "      <td>255.250000</td>\n",
              "      <td>3.000000</td>\n",
              "      <td>33.000000</td>\n",
              "      <td>NaN</td>\n",
              "      <td>2.340000</td>\n",
              "      <td>6.000000</td>\n",
              "      <td>312.000000</td>\n",
              "      <td>14.000000</td>\n",
              "      <td>NaN</td>\n",
              "    </tr>\n",
              "    <tr>\n",
              "      <th>max</th>\n",
              "      <td>7.820995e+17</td>\n",
              "      <td>NaN</td>\n",
              "      <td>4.909281e+08</td>\n",
              "      <td>NaN</td>\n",
              "      <td>NaN</td>\n",
              "      <td>78759.000000</td>\n",
              "      <td>30.515090</td>\n",
              "      <td>-97.560620</td>\n",
              "      <td>NaN</td>\n",
              "      <td>90151.000000</td>\n",
              "      <td>1100.000000</td>\n",
              "      <td>1086.000000</td>\n",
              "      <td>NaN</td>\n",
              "      <td>31.500000</td>\n",
              "      <td>150.000000</td>\n",
              "      <td>365.000000</td>\n",
              "      <td>291.000000</td>\n",
              "      <td>NaN</td>\n",
              "    </tr>\n",
              "  </tbody>\n",
              "</table>\n",
              "</div>\n",
              "      <button class=\"colab-df-convert\" onclick=\"convertToInteractive('df-11718af2-b4d3-4540-8c1f-70bc9cb319b7')\"\n",
              "              title=\"Convert this dataframe to an interactive table.\"\n",
              "              style=\"display:none;\">\n",
              "        \n",
              "  <svg xmlns=\"http://www.w3.org/2000/svg\" height=\"24px\"viewBox=\"0 0 24 24\"\n",
              "       width=\"24px\">\n",
              "    <path d=\"M0 0h24v24H0V0z\" fill=\"none\"/>\n",
              "    <path d=\"M18.56 5.44l.94 2.06.94-2.06 2.06-.94-2.06-.94-.94-2.06-.94 2.06-2.06.94zm-11 1L8.5 8.5l.94-2.06 2.06-.94-2.06-.94L8.5 2.5l-.94 2.06-2.06.94zm10 10l.94 2.06.94-2.06 2.06-.94-2.06-.94-.94-2.06-.94 2.06-2.06.94z\"/><path d=\"M17.41 7.96l-1.37-1.37c-.4-.4-.92-.59-1.43-.59-.52 0-1.04.2-1.43.59L10.3 9.45l-7.72 7.72c-.78.78-.78 2.05 0 2.83L4 21.41c.39.39.9.59 1.41.59.51 0 1.02-.2 1.41-.59l7.78-7.78 2.81-2.81c.8-.78.8-2.07 0-2.86zM5.41 20L4 18.59l7.72-7.72 1.47 1.35L5.41 20z\"/>\n",
              "  </svg>\n",
              "      </button>\n",
              "      \n",
              "  <style>\n",
              "    .colab-df-container {\n",
              "      display:flex;\n",
              "      flex-wrap:wrap;\n",
              "      gap: 12px;\n",
              "    }\n",
              "\n",
              "    .colab-df-convert {\n",
              "      background-color: #E8F0FE;\n",
              "      border: none;\n",
              "      border-radius: 50%;\n",
              "      cursor: pointer;\n",
              "      display: none;\n",
              "      fill: #1967D2;\n",
              "      height: 32px;\n",
              "      padding: 0 0 0 0;\n",
              "      width: 32px;\n",
              "    }\n",
              "\n",
              "    .colab-df-convert:hover {\n",
              "      background-color: #E2EBFA;\n",
              "      box-shadow: 0px 1px 2px rgba(60, 64, 67, 0.3), 0px 1px 3px 1px rgba(60, 64, 67, 0.15);\n",
              "      fill: #174EA6;\n",
              "    }\n",
              "\n",
              "    [theme=dark] .colab-df-convert {\n",
              "      background-color: #3B4455;\n",
              "      fill: #D2E3FC;\n",
              "    }\n",
              "\n",
              "    [theme=dark] .colab-df-convert:hover {\n",
              "      background-color: #434B5C;\n",
              "      box-shadow: 0px 1px 3px 1px rgba(0, 0, 0, 0.15);\n",
              "      filter: drop-shadow(0px 1px 2px rgba(0, 0, 0, 0.3));\n",
              "      fill: #FFFFFF;\n",
              "    }\n",
              "  </style>\n",
              "\n",
              "      <script>\n",
              "        const buttonEl =\n",
              "          document.querySelector('#df-11718af2-b4d3-4540-8c1f-70bc9cb319b7 button.colab-df-convert');\n",
              "        buttonEl.style.display =\n",
              "          google.colab.kernel.accessAllowed ? 'block' : 'none';\n",
              "\n",
              "        async function convertToInteractive(key) {\n",
              "          const element = document.querySelector('#df-11718af2-b4d3-4540-8c1f-70bc9cb319b7');\n",
              "          const dataTable =\n",
              "            await google.colab.kernel.invokeFunction('convertToInteractive',\n",
              "                                                     [key], {});\n",
              "          if (!dataTable) return;\n",
              "\n",
              "          const docLinkHtml = 'Like what you see? Visit the ' +\n",
              "            '<a target=\"_blank\" href=https://colab.research.google.com/notebooks/data_table.ipynb>data table notebook</a>'\n",
              "            + ' to learn more about interactive tables.';\n",
              "          element.innerHTML = '';\n",
              "          dataTable['output_type'] = 'display_data';\n",
              "          await google.colab.output.renderOutput(dataTable, element);\n",
              "          const docLink = document.createElement('div');\n",
              "          docLink.innerHTML = docLinkHtml;\n",
              "          element.appendChild(docLink);\n",
              "        }\n",
              "      </script>\n",
              "    </div>\n",
              "  </div>\n",
              "  "
            ]
          },
          "metadata": {},
          "execution_count": 10
        }
      ]
    },
    {
      "cell_type": "markdown",
      "source": [
        "**STEP 3.** **DEALING WITH MISSING VALUES.**"
      ],
      "metadata": {
        "id": "wWmjGNbFt8AJ"
      }
    },
    {
      "cell_type": "markdown",
      "source": [
        "**1.** **HERE FROM ABOVE STATISTICAL CALCULATION, WE CAN SEE THAT THERE ARE MANY NaN VALUES AND 0 VALUES ARE PRESENT IN SOME COLUMNS.**\n",
        "\n",
        "**2.** **0 IN SOME COLUMNS ALSO REPRESENTS THAT THERE ARE SOME MISSING VALUES TOO. SO THE VALUES ARE WRONGLY IMPUTED AS 0.**\n",
        "\n",
        "**3.** **WE NEED TO REPLACE 0 WITH NaN VALUES FOR FURTHUR EVALUATION.**"
      ],
      "metadata": {
        "id": "nBnN_ndWuEQx"
      }
    },
    {
      "cell_type": "code",
      "source": [
        "# REPLACING '0' WITH 'NaN' FOR FURTHUR EVALUATION.\n",
        "\n",
        "df.replace(0, np.nan, inplace=True)"
      ],
      "metadata": {
        "id": "yAif62tYXXw8"
      },
      "execution_count": 11,
      "outputs": []
    },
    {
      "cell_type": "code",
      "source": [
        "# DROPPING UNWANTED COLUMNS FROM THE DATASET.\n",
        "\n",
        "df.drop('last_review', axis=1, inplace=True)"
      ],
      "metadata": {
        "id": "3brvIRyVXaqG"
      },
      "execution_count": 12,
      "outputs": []
    },
    {
      "cell_type": "code",
      "source": [
        "# DROPPING DUPLICATE VALUES FROM EACH AND EVERY COLUMN.\n",
        "\n",
        "df.drop_duplicates(inplace=True)"
      ],
      "metadata": {
        "id": "9beT7hcOXhu4"
      },
      "execution_count": 13,
      "outputs": []
    },
    {
      "cell_type": "code",
      "source": [
        "df.head()"
      ],
      "metadata": {
        "colab": {
          "base_uri": "https://localhost:8080/",
          "height": 530
        },
        "id": "VXXbL3LgXk5O",
        "outputId": "b87d0a8b-1067-4559-be26-1c414aeb762b"
      },
      "execution_count": 14,
      "outputs": [
        {
          "output_type": "execute_result",
          "data": {
            "text/plain": [
              "       id                                    name  host_id host_name  \\\n",
              "0  329172     Hillside designer home,10 min.dwntn  1680871     Janet   \n",
              "1  329306  Urban Homestead, 5 minutes to downtown   880571     Angel   \n",
              "2  331549          One Room with Private Bathroom  1690383    Sandra   \n",
              "3  333815           Solar Sanctuary - Austin Room   372962       Kim   \n",
              "4  333442              Rare Secluded 1940s Estate  1698318  Virginia   \n",
              "\n",
              "   neighbourhood_group  neighbourhood  latitude  longitude        room_type  \\\n",
              "0                  NaN          78746  30.30085  -97.80794  Entire home/apt   \n",
              "1                  NaN          78702  30.27232  -97.72579     Private room   \n",
              "2                  NaN          78725  30.23911  -97.58625     Private room   \n",
              "3                  NaN          78704  30.25381  -97.75262     Private room   \n",
              "4                  NaN          78703  30.31267  -97.76641  Entire home/apt   \n",
              "\n",
              "   price  minimum_nights  number_of_reviews  reviews_per_month  \\\n",
              "0  495.0               3                7.0               0.05   \n",
              "1   63.0               2              570.0               4.36   \n",
              "2  100.0               2                NaN                NaN   \n",
              "3  102.0               2              164.0               1.26   \n",
              "4  286.0               3              163.0               1.32   \n",
              "\n",
              "   calculated_host_listings_count  availability_365  number_of_reviews_ltm  \\\n",
              "0                               1             363.0                    1.0   \n",
              "1                               5              55.0                   45.0   \n",
              "2                               1               NaN                    NaN   \n",
              "3                               1              36.0                   18.0   \n",
              "4                               1             271.0                   15.0   \n",
              "\n",
              "   license  \n",
              "0      NaN  \n",
              "1      NaN  \n",
              "2      NaN  \n",
              "3      NaN  \n",
              "4      NaN  "
            ],
            "text/html": [
              "\n",
              "  <div id=\"df-935daa09-dc4a-4fff-a2c1-9341b0d85472\">\n",
              "    <div class=\"colab-df-container\">\n",
              "      <div>\n",
              "<style scoped>\n",
              "    .dataframe tbody tr th:only-of-type {\n",
              "        vertical-align: middle;\n",
              "    }\n",
              "\n",
              "    .dataframe tbody tr th {\n",
              "        vertical-align: top;\n",
              "    }\n",
              "\n",
              "    .dataframe thead th {\n",
              "        text-align: right;\n",
              "    }\n",
              "</style>\n",
              "<table border=\"1\" class=\"dataframe\">\n",
              "  <thead>\n",
              "    <tr style=\"text-align: right;\">\n",
              "      <th></th>\n",
              "      <th>id</th>\n",
              "      <th>name</th>\n",
              "      <th>host_id</th>\n",
              "      <th>host_name</th>\n",
              "      <th>neighbourhood_group</th>\n",
              "      <th>neighbourhood</th>\n",
              "      <th>latitude</th>\n",
              "      <th>longitude</th>\n",
              "      <th>room_type</th>\n",
              "      <th>price</th>\n",
              "      <th>minimum_nights</th>\n",
              "      <th>number_of_reviews</th>\n",
              "      <th>reviews_per_month</th>\n",
              "      <th>calculated_host_listings_count</th>\n",
              "      <th>availability_365</th>\n",
              "      <th>number_of_reviews_ltm</th>\n",
              "      <th>license</th>\n",
              "    </tr>\n",
              "  </thead>\n",
              "  <tbody>\n",
              "    <tr>\n",
              "      <th>0</th>\n",
              "      <td>329172</td>\n",
              "      <td>Hillside designer home,10 min.dwntn</td>\n",
              "      <td>1680871</td>\n",
              "      <td>Janet</td>\n",
              "      <td>NaN</td>\n",
              "      <td>78746</td>\n",
              "      <td>30.30085</td>\n",
              "      <td>-97.80794</td>\n",
              "      <td>Entire home/apt</td>\n",
              "      <td>495.0</td>\n",
              "      <td>3</td>\n",
              "      <td>7.0</td>\n",
              "      <td>0.05</td>\n",
              "      <td>1</td>\n",
              "      <td>363.0</td>\n",
              "      <td>1.0</td>\n",
              "      <td>NaN</td>\n",
              "    </tr>\n",
              "    <tr>\n",
              "      <th>1</th>\n",
              "      <td>329306</td>\n",
              "      <td>Urban Homestead, 5 minutes to downtown</td>\n",
              "      <td>880571</td>\n",
              "      <td>Angel</td>\n",
              "      <td>NaN</td>\n",
              "      <td>78702</td>\n",
              "      <td>30.27232</td>\n",
              "      <td>-97.72579</td>\n",
              "      <td>Private room</td>\n",
              "      <td>63.0</td>\n",
              "      <td>2</td>\n",
              "      <td>570.0</td>\n",
              "      <td>4.36</td>\n",
              "      <td>5</td>\n",
              "      <td>55.0</td>\n",
              "      <td>45.0</td>\n",
              "      <td>NaN</td>\n",
              "    </tr>\n",
              "    <tr>\n",
              "      <th>2</th>\n",
              "      <td>331549</td>\n",
              "      <td>One Room with Private Bathroom</td>\n",
              "      <td>1690383</td>\n",
              "      <td>Sandra</td>\n",
              "      <td>NaN</td>\n",
              "      <td>78725</td>\n",
              "      <td>30.23911</td>\n",
              "      <td>-97.58625</td>\n",
              "      <td>Private room</td>\n",
              "      <td>100.0</td>\n",
              "      <td>2</td>\n",
              "      <td>NaN</td>\n",
              "      <td>NaN</td>\n",
              "      <td>1</td>\n",
              "      <td>NaN</td>\n",
              "      <td>NaN</td>\n",
              "      <td>NaN</td>\n",
              "    </tr>\n",
              "    <tr>\n",
              "      <th>3</th>\n",
              "      <td>333815</td>\n",
              "      <td>Solar Sanctuary - Austin Room</td>\n",
              "      <td>372962</td>\n",
              "      <td>Kim</td>\n",
              "      <td>NaN</td>\n",
              "      <td>78704</td>\n",
              "      <td>30.25381</td>\n",
              "      <td>-97.75262</td>\n",
              "      <td>Private room</td>\n",
              "      <td>102.0</td>\n",
              "      <td>2</td>\n",
              "      <td>164.0</td>\n",
              "      <td>1.26</td>\n",
              "      <td>1</td>\n",
              "      <td>36.0</td>\n",
              "      <td>18.0</td>\n",
              "      <td>NaN</td>\n",
              "    </tr>\n",
              "    <tr>\n",
              "      <th>4</th>\n",
              "      <td>333442</td>\n",
              "      <td>Rare Secluded 1940s Estate</td>\n",
              "      <td>1698318</td>\n",
              "      <td>Virginia</td>\n",
              "      <td>NaN</td>\n",
              "      <td>78703</td>\n",
              "      <td>30.31267</td>\n",
              "      <td>-97.76641</td>\n",
              "      <td>Entire home/apt</td>\n",
              "      <td>286.0</td>\n",
              "      <td>3</td>\n",
              "      <td>163.0</td>\n",
              "      <td>1.32</td>\n",
              "      <td>1</td>\n",
              "      <td>271.0</td>\n",
              "      <td>15.0</td>\n",
              "      <td>NaN</td>\n",
              "    </tr>\n",
              "  </tbody>\n",
              "</table>\n",
              "</div>\n",
              "      <button class=\"colab-df-convert\" onclick=\"convertToInteractive('df-935daa09-dc4a-4fff-a2c1-9341b0d85472')\"\n",
              "              title=\"Convert this dataframe to an interactive table.\"\n",
              "              style=\"display:none;\">\n",
              "        \n",
              "  <svg xmlns=\"http://www.w3.org/2000/svg\" height=\"24px\"viewBox=\"0 0 24 24\"\n",
              "       width=\"24px\">\n",
              "    <path d=\"M0 0h24v24H0V0z\" fill=\"none\"/>\n",
              "    <path d=\"M18.56 5.44l.94 2.06.94-2.06 2.06-.94-2.06-.94-.94-2.06-.94 2.06-2.06.94zm-11 1L8.5 8.5l.94-2.06 2.06-.94-2.06-.94L8.5 2.5l-.94 2.06-2.06.94zm10 10l.94 2.06.94-2.06 2.06-.94-2.06-.94-.94-2.06-.94 2.06-2.06.94z\"/><path d=\"M17.41 7.96l-1.37-1.37c-.4-.4-.92-.59-1.43-.59-.52 0-1.04.2-1.43.59L10.3 9.45l-7.72 7.72c-.78.78-.78 2.05 0 2.83L4 21.41c.39.39.9.59 1.41.59.51 0 1.02-.2 1.41-.59l7.78-7.78 2.81-2.81c.8-.78.8-2.07 0-2.86zM5.41 20L4 18.59l7.72-7.72 1.47 1.35L5.41 20z\"/>\n",
              "  </svg>\n",
              "      </button>\n",
              "      \n",
              "  <style>\n",
              "    .colab-df-container {\n",
              "      display:flex;\n",
              "      flex-wrap:wrap;\n",
              "      gap: 12px;\n",
              "    }\n",
              "\n",
              "    .colab-df-convert {\n",
              "      background-color: #E8F0FE;\n",
              "      border: none;\n",
              "      border-radius: 50%;\n",
              "      cursor: pointer;\n",
              "      display: none;\n",
              "      fill: #1967D2;\n",
              "      height: 32px;\n",
              "      padding: 0 0 0 0;\n",
              "      width: 32px;\n",
              "    }\n",
              "\n",
              "    .colab-df-convert:hover {\n",
              "      background-color: #E2EBFA;\n",
              "      box-shadow: 0px 1px 2px rgba(60, 64, 67, 0.3), 0px 1px 3px 1px rgba(60, 64, 67, 0.15);\n",
              "      fill: #174EA6;\n",
              "    }\n",
              "\n",
              "    [theme=dark] .colab-df-convert {\n",
              "      background-color: #3B4455;\n",
              "      fill: #D2E3FC;\n",
              "    }\n",
              "\n",
              "    [theme=dark] .colab-df-convert:hover {\n",
              "      background-color: #434B5C;\n",
              "      box-shadow: 0px 1px 3px 1px rgba(0, 0, 0, 0.15);\n",
              "      filter: drop-shadow(0px 1px 2px rgba(0, 0, 0, 0.3));\n",
              "      fill: #FFFFFF;\n",
              "    }\n",
              "  </style>\n",
              "\n",
              "      <script>\n",
              "        const buttonEl =\n",
              "          document.querySelector('#df-935daa09-dc4a-4fff-a2c1-9341b0d85472 button.colab-df-convert');\n",
              "        buttonEl.style.display =\n",
              "          google.colab.kernel.accessAllowed ? 'block' : 'none';\n",
              "\n",
              "        async function convertToInteractive(key) {\n",
              "          const element = document.querySelector('#df-935daa09-dc4a-4fff-a2c1-9341b0d85472');\n",
              "          const dataTable =\n",
              "            await google.colab.kernel.invokeFunction('convertToInteractive',\n",
              "                                                     [key], {});\n",
              "          if (!dataTable) return;\n",
              "\n",
              "          const docLinkHtml = 'Like what you see? Visit the ' +\n",
              "            '<a target=\"_blank\" href=https://colab.research.google.com/notebooks/data_table.ipynb>data table notebook</a>'\n",
              "            + ' to learn more about interactive tables.';\n",
              "          element.innerHTML = '';\n",
              "          dataTable['output_type'] = 'display_data';\n",
              "          await google.colab.output.renderOutput(dataTable, element);\n",
              "          const docLink = document.createElement('div');\n",
              "          docLink.innerHTML = docLinkHtml;\n",
              "          element.appendChild(docLink);\n",
              "        }\n",
              "      </script>\n",
              "    </div>\n",
              "  </div>\n",
              "  "
            ]
          },
          "metadata": {},
          "execution_count": 14
        }
      ]
    },
    {
      "cell_type": "code",
      "source": [
        "# DROPPING NULL VALUES ON PRICE COLUMN SINCE IT HAS ONLY 2 NaN VALUES.\n",
        "\n",
        "df.dropna(subset = ['price'], inplace=True)"
      ],
      "metadata": {
        "id": "bh7gtXtdXm3a"
      },
      "execution_count": 16,
      "outputs": []
    },
    {
      "cell_type": "code",
      "source": [
        "## PERFORMING LABEL ENCODING ON 'room_type' COLUMN TO CHANGE OBJECT TO INT64 TYPE.\n",
        "\n",
        "from sklearn.preprocessing import LabelEncoder\n",
        "\n",
        "le = LabelEncoder()\n",
        "\n",
        "df['room_type_LabelEncoded'] = le.fit_transform(df['room_type'])"
      ],
      "metadata": {
        "id": "2bZwsLWkXqLh"
      },
      "execution_count": 17,
      "outputs": []
    },
    {
      "cell_type": "code",
      "source": [
        "# DROPPING ORIGINAL COLUMN. \n",
        "\n",
        "df.drop('room_type', axis=1, inplace = True)"
      ],
      "metadata": {
        "id": "dVTV5yEvXsMd"
      },
      "execution_count": 18,
      "outputs": []
    },
    {
      "cell_type": "code",
      "source": [
        "# RENAMING ENCODED COLUMN TO ORIGINAL COLUMN NAME.\n",
        "\n",
        "df.rename(columns = {'room_type_LabelEncoded' : 'room_type'}, inplace=True)"
      ],
      "metadata": {
        "id": "Zq4Mh_4BXvER"
      },
      "execution_count": 19,
      "outputs": []
    },
    {
      "cell_type": "code",
      "source": [
        "df.head()"
      ],
      "metadata": {
        "colab": {
          "base_uri": "https://localhost:8080/",
          "height": 530
        },
        "id": "SxCkERY_XxPv",
        "outputId": "c2dfdf2a-6026-47dc-b3be-18c548095474"
      },
      "execution_count": 20,
      "outputs": [
        {
          "output_type": "execute_result",
          "data": {
            "text/plain": [
              "       id                                    name  host_id host_name  \\\n",
              "0  329172     Hillside designer home,10 min.dwntn  1680871     Janet   \n",
              "1  329306  Urban Homestead, 5 minutes to downtown   880571     Angel   \n",
              "2  331549          One Room with Private Bathroom  1690383    Sandra   \n",
              "3  333815           Solar Sanctuary - Austin Room   372962       Kim   \n",
              "4  333442              Rare Secluded 1940s Estate  1698318  Virginia   \n",
              "\n",
              "   neighbourhood_group  neighbourhood  latitude  longitude  price  \\\n",
              "0                  NaN          78746  30.30085  -97.80794  495.0   \n",
              "1                  NaN          78702  30.27232  -97.72579   63.0   \n",
              "2                  NaN          78725  30.23911  -97.58625  100.0   \n",
              "3                  NaN          78704  30.25381  -97.75262  102.0   \n",
              "4                  NaN          78703  30.31267  -97.76641  286.0   \n",
              "\n",
              "   minimum_nights  number_of_reviews  reviews_per_month  \\\n",
              "0               3                7.0               0.05   \n",
              "1               2              570.0               4.36   \n",
              "2               2                NaN                NaN   \n",
              "3               2              164.0               1.26   \n",
              "4               3              163.0               1.32   \n",
              "\n",
              "   calculated_host_listings_count  availability_365  number_of_reviews_ltm  \\\n",
              "0                               1             363.0                    1.0   \n",
              "1                               5              55.0                   45.0   \n",
              "2                               1               NaN                    NaN   \n",
              "3                               1              36.0                   18.0   \n",
              "4                               1             271.0                   15.0   \n",
              "\n",
              "   license  room_type  \n",
              "0      NaN          0  \n",
              "1      NaN          2  \n",
              "2      NaN          2  \n",
              "3      NaN          2  \n",
              "4      NaN          0  "
            ],
            "text/html": [
              "\n",
              "  <div id=\"df-2d05f47c-01ba-48af-8536-ac6b72d1059d\">\n",
              "    <div class=\"colab-df-container\">\n",
              "      <div>\n",
              "<style scoped>\n",
              "    .dataframe tbody tr th:only-of-type {\n",
              "        vertical-align: middle;\n",
              "    }\n",
              "\n",
              "    .dataframe tbody tr th {\n",
              "        vertical-align: top;\n",
              "    }\n",
              "\n",
              "    .dataframe thead th {\n",
              "        text-align: right;\n",
              "    }\n",
              "</style>\n",
              "<table border=\"1\" class=\"dataframe\">\n",
              "  <thead>\n",
              "    <tr style=\"text-align: right;\">\n",
              "      <th></th>\n",
              "      <th>id</th>\n",
              "      <th>name</th>\n",
              "      <th>host_id</th>\n",
              "      <th>host_name</th>\n",
              "      <th>neighbourhood_group</th>\n",
              "      <th>neighbourhood</th>\n",
              "      <th>latitude</th>\n",
              "      <th>longitude</th>\n",
              "      <th>price</th>\n",
              "      <th>minimum_nights</th>\n",
              "      <th>number_of_reviews</th>\n",
              "      <th>reviews_per_month</th>\n",
              "      <th>calculated_host_listings_count</th>\n",
              "      <th>availability_365</th>\n",
              "      <th>number_of_reviews_ltm</th>\n",
              "      <th>license</th>\n",
              "      <th>room_type</th>\n",
              "    </tr>\n",
              "  </thead>\n",
              "  <tbody>\n",
              "    <tr>\n",
              "      <th>0</th>\n",
              "      <td>329172</td>\n",
              "      <td>Hillside designer home,10 min.dwntn</td>\n",
              "      <td>1680871</td>\n",
              "      <td>Janet</td>\n",
              "      <td>NaN</td>\n",
              "      <td>78746</td>\n",
              "      <td>30.30085</td>\n",
              "      <td>-97.80794</td>\n",
              "      <td>495.0</td>\n",
              "      <td>3</td>\n",
              "      <td>7.0</td>\n",
              "      <td>0.05</td>\n",
              "      <td>1</td>\n",
              "      <td>363.0</td>\n",
              "      <td>1.0</td>\n",
              "      <td>NaN</td>\n",
              "      <td>0</td>\n",
              "    </tr>\n",
              "    <tr>\n",
              "      <th>1</th>\n",
              "      <td>329306</td>\n",
              "      <td>Urban Homestead, 5 minutes to downtown</td>\n",
              "      <td>880571</td>\n",
              "      <td>Angel</td>\n",
              "      <td>NaN</td>\n",
              "      <td>78702</td>\n",
              "      <td>30.27232</td>\n",
              "      <td>-97.72579</td>\n",
              "      <td>63.0</td>\n",
              "      <td>2</td>\n",
              "      <td>570.0</td>\n",
              "      <td>4.36</td>\n",
              "      <td>5</td>\n",
              "      <td>55.0</td>\n",
              "      <td>45.0</td>\n",
              "      <td>NaN</td>\n",
              "      <td>2</td>\n",
              "    </tr>\n",
              "    <tr>\n",
              "      <th>2</th>\n",
              "      <td>331549</td>\n",
              "      <td>One Room with Private Bathroom</td>\n",
              "      <td>1690383</td>\n",
              "      <td>Sandra</td>\n",
              "      <td>NaN</td>\n",
              "      <td>78725</td>\n",
              "      <td>30.23911</td>\n",
              "      <td>-97.58625</td>\n",
              "      <td>100.0</td>\n",
              "      <td>2</td>\n",
              "      <td>NaN</td>\n",
              "      <td>NaN</td>\n",
              "      <td>1</td>\n",
              "      <td>NaN</td>\n",
              "      <td>NaN</td>\n",
              "      <td>NaN</td>\n",
              "      <td>2</td>\n",
              "    </tr>\n",
              "    <tr>\n",
              "      <th>3</th>\n",
              "      <td>333815</td>\n",
              "      <td>Solar Sanctuary - Austin Room</td>\n",
              "      <td>372962</td>\n",
              "      <td>Kim</td>\n",
              "      <td>NaN</td>\n",
              "      <td>78704</td>\n",
              "      <td>30.25381</td>\n",
              "      <td>-97.75262</td>\n",
              "      <td>102.0</td>\n",
              "      <td>2</td>\n",
              "      <td>164.0</td>\n",
              "      <td>1.26</td>\n",
              "      <td>1</td>\n",
              "      <td>36.0</td>\n",
              "      <td>18.0</td>\n",
              "      <td>NaN</td>\n",
              "      <td>2</td>\n",
              "    </tr>\n",
              "    <tr>\n",
              "      <th>4</th>\n",
              "      <td>333442</td>\n",
              "      <td>Rare Secluded 1940s Estate</td>\n",
              "      <td>1698318</td>\n",
              "      <td>Virginia</td>\n",
              "      <td>NaN</td>\n",
              "      <td>78703</td>\n",
              "      <td>30.31267</td>\n",
              "      <td>-97.76641</td>\n",
              "      <td>286.0</td>\n",
              "      <td>3</td>\n",
              "      <td>163.0</td>\n",
              "      <td>1.32</td>\n",
              "      <td>1</td>\n",
              "      <td>271.0</td>\n",
              "      <td>15.0</td>\n",
              "      <td>NaN</td>\n",
              "      <td>0</td>\n",
              "    </tr>\n",
              "  </tbody>\n",
              "</table>\n",
              "</div>\n",
              "      <button class=\"colab-df-convert\" onclick=\"convertToInteractive('df-2d05f47c-01ba-48af-8536-ac6b72d1059d')\"\n",
              "              title=\"Convert this dataframe to an interactive table.\"\n",
              "              style=\"display:none;\">\n",
              "        \n",
              "  <svg xmlns=\"http://www.w3.org/2000/svg\" height=\"24px\"viewBox=\"0 0 24 24\"\n",
              "       width=\"24px\">\n",
              "    <path d=\"M0 0h24v24H0V0z\" fill=\"none\"/>\n",
              "    <path d=\"M18.56 5.44l.94 2.06.94-2.06 2.06-.94-2.06-.94-.94-2.06-.94 2.06-2.06.94zm-11 1L8.5 8.5l.94-2.06 2.06-.94-2.06-.94L8.5 2.5l-.94 2.06-2.06.94zm10 10l.94 2.06.94-2.06 2.06-.94-2.06-.94-.94-2.06-.94 2.06-2.06.94z\"/><path d=\"M17.41 7.96l-1.37-1.37c-.4-.4-.92-.59-1.43-.59-.52 0-1.04.2-1.43.59L10.3 9.45l-7.72 7.72c-.78.78-.78 2.05 0 2.83L4 21.41c.39.39.9.59 1.41.59.51 0 1.02-.2 1.41-.59l7.78-7.78 2.81-2.81c.8-.78.8-2.07 0-2.86zM5.41 20L4 18.59l7.72-7.72 1.47 1.35L5.41 20z\"/>\n",
              "  </svg>\n",
              "      </button>\n",
              "      \n",
              "  <style>\n",
              "    .colab-df-container {\n",
              "      display:flex;\n",
              "      flex-wrap:wrap;\n",
              "      gap: 12px;\n",
              "    }\n",
              "\n",
              "    .colab-df-convert {\n",
              "      background-color: #E8F0FE;\n",
              "      border: none;\n",
              "      border-radius: 50%;\n",
              "      cursor: pointer;\n",
              "      display: none;\n",
              "      fill: #1967D2;\n",
              "      height: 32px;\n",
              "      padding: 0 0 0 0;\n",
              "      width: 32px;\n",
              "    }\n",
              "\n",
              "    .colab-df-convert:hover {\n",
              "      background-color: #E2EBFA;\n",
              "      box-shadow: 0px 1px 2px rgba(60, 64, 67, 0.3), 0px 1px 3px 1px rgba(60, 64, 67, 0.15);\n",
              "      fill: #174EA6;\n",
              "    }\n",
              "\n",
              "    [theme=dark] .colab-df-convert {\n",
              "      background-color: #3B4455;\n",
              "      fill: #D2E3FC;\n",
              "    }\n",
              "\n",
              "    [theme=dark] .colab-df-convert:hover {\n",
              "      background-color: #434B5C;\n",
              "      box-shadow: 0px 1px 3px 1px rgba(0, 0, 0, 0.15);\n",
              "      filter: drop-shadow(0px 1px 2px rgba(0, 0, 0, 0.3));\n",
              "      fill: #FFFFFF;\n",
              "    }\n",
              "  </style>\n",
              "\n",
              "      <script>\n",
              "        const buttonEl =\n",
              "          document.querySelector('#df-2d05f47c-01ba-48af-8536-ac6b72d1059d button.colab-df-convert');\n",
              "        buttonEl.style.display =\n",
              "          google.colab.kernel.accessAllowed ? 'block' : 'none';\n",
              "\n",
              "        async function convertToInteractive(key) {\n",
              "          const element = document.querySelector('#df-2d05f47c-01ba-48af-8536-ac6b72d1059d');\n",
              "          const dataTable =\n",
              "            await google.colab.kernel.invokeFunction('convertToInteractive',\n",
              "                                                     [key], {});\n",
              "          if (!dataTable) return;\n",
              "\n",
              "          const docLinkHtml = 'Like what you see? Visit the ' +\n",
              "            '<a target=\"_blank\" href=https://colab.research.google.com/notebooks/data_table.ipynb>data table notebook</a>'\n",
              "            + ' to learn more about interactive tables.';\n",
              "          element.innerHTML = '';\n",
              "          dataTable['output_type'] = 'display_data';\n",
              "          await google.colab.output.renderOutput(dataTable, element);\n",
              "          const docLink = document.createElement('div');\n",
              "          docLink.innerHTML = docLinkHtml;\n",
              "          element.appendChild(docLink);\n",
              "        }\n",
              "      </script>\n",
              "    </div>\n",
              "  </div>\n",
              "  "
            ]
          },
          "metadata": {},
          "execution_count": 20
        }
      ]
    },
    {
      "cell_type": "code",
      "source": [
        "# AGAIN DROPPING UNWANTED COLUMNS FROM DATASET\n",
        "\n",
        "df.drop(columns = ['name', 'host_name'], inplace=True)"
      ],
      "metadata": {
        "id": "LTmfqbhmXziF"
      },
      "execution_count": 21,
      "outputs": []
    },
    {
      "cell_type": "code",
      "source": [
        "df.head()"
      ],
      "metadata": {
        "colab": {
          "base_uri": "https://localhost:8080/",
          "height": 270
        },
        "id": "JqT8ud2yX8Dh",
        "outputId": "375e2b56-e4b8-4e17-a221-2ff056aec9d1"
      },
      "execution_count": 22,
      "outputs": [
        {
          "output_type": "execute_result",
          "data": {
            "text/plain": [
              "       id  host_id  neighbourhood_group  neighbourhood  latitude  longitude  \\\n",
              "0  329172  1680871                  NaN          78746  30.30085  -97.80794   \n",
              "1  329306   880571                  NaN          78702  30.27232  -97.72579   \n",
              "2  331549  1690383                  NaN          78725  30.23911  -97.58625   \n",
              "3  333815   372962                  NaN          78704  30.25381  -97.75262   \n",
              "4  333442  1698318                  NaN          78703  30.31267  -97.76641   \n",
              "\n",
              "   price  minimum_nights  number_of_reviews  reviews_per_month  \\\n",
              "0  495.0               3                7.0               0.05   \n",
              "1   63.0               2              570.0               4.36   \n",
              "2  100.0               2                NaN                NaN   \n",
              "3  102.0               2              164.0               1.26   \n",
              "4  286.0               3              163.0               1.32   \n",
              "\n",
              "   calculated_host_listings_count  availability_365  number_of_reviews_ltm  \\\n",
              "0                               1             363.0                    1.0   \n",
              "1                               5              55.0                   45.0   \n",
              "2                               1               NaN                    NaN   \n",
              "3                               1              36.0                   18.0   \n",
              "4                               1             271.0                   15.0   \n",
              "\n",
              "   license  room_type  \n",
              "0      NaN          0  \n",
              "1      NaN          2  \n",
              "2      NaN          2  \n",
              "3      NaN          2  \n",
              "4      NaN          0  "
            ],
            "text/html": [
              "\n",
              "  <div id=\"df-b1d70970-29af-4c42-9077-2d13c8c8ab9a\">\n",
              "    <div class=\"colab-df-container\">\n",
              "      <div>\n",
              "<style scoped>\n",
              "    .dataframe tbody tr th:only-of-type {\n",
              "        vertical-align: middle;\n",
              "    }\n",
              "\n",
              "    .dataframe tbody tr th {\n",
              "        vertical-align: top;\n",
              "    }\n",
              "\n",
              "    .dataframe thead th {\n",
              "        text-align: right;\n",
              "    }\n",
              "</style>\n",
              "<table border=\"1\" class=\"dataframe\">\n",
              "  <thead>\n",
              "    <tr style=\"text-align: right;\">\n",
              "      <th></th>\n",
              "      <th>id</th>\n",
              "      <th>host_id</th>\n",
              "      <th>neighbourhood_group</th>\n",
              "      <th>neighbourhood</th>\n",
              "      <th>latitude</th>\n",
              "      <th>longitude</th>\n",
              "      <th>price</th>\n",
              "      <th>minimum_nights</th>\n",
              "      <th>number_of_reviews</th>\n",
              "      <th>reviews_per_month</th>\n",
              "      <th>calculated_host_listings_count</th>\n",
              "      <th>availability_365</th>\n",
              "      <th>number_of_reviews_ltm</th>\n",
              "      <th>license</th>\n",
              "      <th>room_type</th>\n",
              "    </tr>\n",
              "  </thead>\n",
              "  <tbody>\n",
              "    <tr>\n",
              "      <th>0</th>\n",
              "      <td>329172</td>\n",
              "      <td>1680871</td>\n",
              "      <td>NaN</td>\n",
              "      <td>78746</td>\n",
              "      <td>30.30085</td>\n",
              "      <td>-97.80794</td>\n",
              "      <td>495.0</td>\n",
              "      <td>3</td>\n",
              "      <td>7.0</td>\n",
              "      <td>0.05</td>\n",
              "      <td>1</td>\n",
              "      <td>363.0</td>\n",
              "      <td>1.0</td>\n",
              "      <td>NaN</td>\n",
              "      <td>0</td>\n",
              "    </tr>\n",
              "    <tr>\n",
              "      <th>1</th>\n",
              "      <td>329306</td>\n",
              "      <td>880571</td>\n",
              "      <td>NaN</td>\n",
              "      <td>78702</td>\n",
              "      <td>30.27232</td>\n",
              "      <td>-97.72579</td>\n",
              "      <td>63.0</td>\n",
              "      <td>2</td>\n",
              "      <td>570.0</td>\n",
              "      <td>4.36</td>\n",
              "      <td>5</td>\n",
              "      <td>55.0</td>\n",
              "      <td>45.0</td>\n",
              "      <td>NaN</td>\n",
              "      <td>2</td>\n",
              "    </tr>\n",
              "    <tr>\n",
              "      <th>2</th>\n",
              "      <td>331549</td>\n",
              "      <td>1690383</td>\n",
              "      <td>NaN</td>\n",
              "      <td>78725</td>\n",
              "      <td>30.23911</td>\n",
              "      <td>-97.58625</td>\n",
              "      <td>100.0</td>\n",
              "      <td>2</td>\n",
              "      <td>NaN</td>\n",
              "      <td>NaN</td>\n",
              "      <td>1</td>\n",
              "      <td>NaN</td>\n",
              "      <td>NaN</td>\n",
              "      <td>NaN</td>\n",
              "      <td>2</td>\n",
              "    </tr>\n",
              "    <tr>\n",
              "      <th>3</th>\n",
              "      <td>333815</td>\n",
              "      <td>372962</td>\n",
              "      <td>NaN</td>\n",
              "      <td>78704</td>\n",
              "      <td>30.25381</td>\n",
              "      <td>-97.75262</td>\n",
              "      <td>102.0</td>\n",
              "      <td>2</td>\n",
              "      <td>164.0</td>\n",
              "      <td>1.26</td>\n",
              "      <td>1</td>\n",
              "      <td>36.0</td>\n",
              "      <td>18.0</td>\n",
              "      <td>NaN</td>\n",
              "      <td>2</td>\n",
              "    </tr>\n",
              "    <tr>\n",
              "      <th>4</th>\n",
              "      <td>333442</td>\n",
              "      <td>1698318</td>\n",
              "      <td>NaN</td>\n",
              "      <td>78703</td>\n",
              "      <td>30.31267</td>\n",
              "      <td>-97.76641</td>\n",
              "      <td>286.0</td>\n",
              "      <td>3</td>\n",
              "      <td>163.0</td>\n",
              "      <td>1.32</td>\n",
              "      <td>1</td>\n",
              "      <td>271.0</td>\n",
              "      <td>15.0</td>\n",
              "      <td>NaN</td>\n",
              "      <td>0</td>\n",
              "    </tr>\n",
              "  </tbody>\n",
              "</table>\n",
              "</div>\n",
              "      <button class=\"colab-df-convert\" onclick=\"convertToInteractive('df-b1d70970-29af-4c42-9077-2d13c8c8ab9a')\"\n",
              "              title=\"Convert this dataframe to an interactive table.\"\n",
              "              style=\"display:none;\">\n",
              "        \n",
              "  <svg xmlns=\"http://www.w3.org/2000/svg\" height=\"24px\"viewBox=\"0 0 24 24\"\n",
              "       width=\"24px\">\n",
              "    <path d=\"M0 0h24v24H0V0z\" fill=\"none\"/>\n",
              "    <path d=\"M18.56 5.44l.94 2.06.94-2.06 2.06-.94-2.06-.94-.94-2.06-.94 2.06-2.06.94zm-11 1L8.5 8.5l.94-2.06 2.06-.94-2.06-.94L8.5 2.5l-.94 2.06-2.06.94zm10 10l.94 2.06.94-2.06 2.06-.94-2.06-.94-.94-2.06-.94 2.06-2.06.94z\"/><path d=\"M17.41 7.96l-1.37-1.37c-.4-.4-.92-.59-1.43-.59-.52 0-1.04.2-1.43.59L10.3 9.45l-7.72 7.72c-.78.78-.78 2.05 0 2.83L4 21.41c.39.39.9.59 1.41.59.51 0 1.02-.2 1.41-.59l7.78-7.78 2.81-2.81c.8-.78.8-2.07 0-2.86zM5.41 20L4 18.59l7.72-7.72 1.47 1.35L5.41 20z\"/>\n",
              "  </svg>\n",
              "      </button>\n",
              "      \n",
              "  <style>\n",
              "    .colab-df-container {\n",
              "      display:flex;\n",
              "      flex-wrap:wrap;\n",
              "      gap: 12px;\n",
              "    }\n",
              "\n",
              "    .colab-df-convert {\n",
              "      background-color: #E8F0FE;\n",
              "      border: none;\n",
              "      border-radius: 50%;\n",
              "      cursor: pointer;\n",
              "      display: none;\n",
              "      fill: #1967D2;\n",
              "      height: 32px;\n",
              "      padding: 0 0 0 0;\n",
              "      width: 32px;\n",
              "    }\n",
              "\n",
              "    .colab-df-convert:hover {\n",
              "      background-color: #E2EBFA;\n",
              "      box-shadow: 0px 1px 2px rgba(60, 64, 67, 0.3), 0px 1px 3px 1px rgba(60, 64, 67, 0.15);\n",
              "      fill: #174EA6;\n",
              "    }\n",
              "\n",
              "    [theme=dark] .colab-df-convert {\n",
              "      background-color: #3B4455;\n",
              "      fill: #D2E3FC;\n",
              "    }\n",
              "\n",
              "    [theme=dark] .colab-df-convert:hover {\n",
              "      background-color: #434B5C;\n",
              "      box-shadow: 0px 1px 3px 1px rgba(0, 0, 0, 0.15);\n",
              "      filter: drop-shadow(0px 1px 2px rgba(0, 0, 0, 0.3));\n",
              "      fill: #FFFFFF;\n",
              "    }\n",
              "  </style>\n",
              "\n",
              "      <script>\n",
              "        const buttonEl =\n",
              "          document.querySelector('#df-b1d70970-29af-4c42-9077-2d13c8c8ab9a button.colab-df-convert');\n",
              "        buttonEl.style.display =\n",
              "          google.colab.kernel.accessAllowed ? 'block' : 'none';\n",
              "\n",
              "        async function convertToInteractive(key) {\n",
              "          const element = document.querySelector('#df-b1d70970-29af-4c42-9077-2d13c8c8ab9a');\n",
              "          const dataTable =\n",
              "            await google.colab.kernel.invokeFunction('convertToInteractive',\n",
              "                                                     [key], {});\n",
              "          if (!dataTable) return;\n",
              "\n",
              "          const docLinkHtml = 'Like what you see? Visit the ' +\n",
              "            '<a target=\"_blank\" href=https://colab.research.google.com/notebooks/data_table.ipynb>data table notebook</a>'\n",
              "            + ' to learn more about interactive tables.';\n",
              "          element.innerHTML = '';\n",
              "          dataTable['output_type'] = 'display_data';\n",
              "          await google.colab.output.renderOutput(dataTable, element);\n",
              "          const docLink = document.createElement('div');\n",
              "          docLink.innerHTML = docLinkHtml;\n",
              "          element.appendChild(docLink);\n",
              "        }\n",
              "      </script>\n",
              "    </div>\n",
              "  </div>\n",
              "  "
            ]
          },
          "metadata": {},
          "execution_count": 22
        }
      ]
    },
    {
      "cell_type": "code",
      "source": [
        "df.drop('neighbourhood_group', axis=1, inplace=True)"
      ],
      "metadata": {
        "id": "xvzgC7YYX91i"
      },
      "execution_count": 23,
      "outputs": []
    },
    {
      "cell_type": "code",
      "source": [
        "df.head()"
      ],
      "metadata": {
        "colab": {
          "base_uri": "https://localhost:8080/",
          "height": 270
        },
        "id": "qwyh-9cuPo8i",
        "outputId": "127667b6-9ab7-4aa2-c3b2-3bc0ee6c9be2"
      },
      "execution_count": 24,
      "outputs": [
        {
          "output_type": "execute_result",
          "data": {
            "text/plain": [
              "       id  host_id  neighbourhood  latitude  longitude  price  minimum_nights  \\\n",
              "0  329172  1680871          78746  30.30085  -97.80794  495.0               3   \n",
              "1  329306   880571          78702  30.27232  -97.72579   63.0               2   \n",
              "2  331549  1690383          78725  30.23911  -97.58625  100.0               2   \n",
              "3  333815   372962          78704  30.25381  -97.75262  102.0               2   \n",
              "4  333442  1698318          78703  30.31267  -97.76641  286.0               3   \n",
              "\n",
              "   number_of_reviews  reviews_per_month  calculated_host_listings_count  \\\n",
              "0                7.0               0.05                               1   \n",
              "1              570.0               4.36                               5   \n",
              "2                NaN                NaN                               1   \n",
              "3              164.0               1.26                               1   \n",
              "4              163.0               1.32                               1   \n",
              "\n",
              "   availability_365  number_of_reviews_ltm  license  room_type  \n",
              "0             363.0                    1.0      NaN          0  \n",
              "1              55.0                   45.0      NaN          2  \n",
              "2               NaN                    NaN      NaN          2  \n",
              "3              36.0                   18.0      NaN          2  \n",
              "4             271.0                   15.0      NaN          0  "
            ],
            "text/html": [
              "\n",
              "  <div id=\"df-aa330a21-1614-4319-81ee-076f0074849c\">\n",
              "    <div class=\"colab-df-container\">\n",
              "      <div>\n",
              "<style scoped>\n",
              "    .dataframe tbody tr th:only-of-type {\n",
              "        vertical-align: middle;\n",
              "    }\n",
              "\n",
              "    .dataframe tbody tr th {\n",
              "        vertical-align: top;\n",
              "    }\n",
              "\n",
              "    .dataframe thead th {\n",
              "        text-align: right;\n",
              "    }\n",
              "</style>\n",
              "<table border=\"1\" class=\"dataframe\">\n",
              "  <thead>\n",
              "    <tr style=\"text-align: right;\">\n",
              "      <th></th>\n",
              "      <th>id</th>\n",
              "      <th>host_id</th>\n",
              "      <th>neighbourhood</th>\n",
              "      <th>latitude</th>\n",
              "      <th>longitude</th>\n",
              "      <th>price</th>\n",
              "      <th>minimum_nights</th>\n",
              "      <th>number_of_reviews</th>\n",
              "      <th>reviews_per_month</th>\n",
              "      <th>calculated_host_listings_count</th>\n",
              "      <th>availability_365</th>\n",
              "      <th>number_of_reviews_ltm</th>\n",
              "      <th>license</th>\n",
              "      <th>room_type</th>\n",
              "    </tr>\n",
              "  </thead>\n",
              "  <tbody>\n",
              "    <tr>\n",
              "      <th>0</th>\n",
              "      <td>329172</td>\n",
              "      <td>1680871</td>\n",
              "      <td>78746</td>\n",
              "      <td>30.30085</td>\n",
              "      <td>-97.80794</td>\n",
              "      <td>495.0</td>\n",
              "      <td>3</td>\n",
              "      <td>7.0</td>\n",
              "      <td>0.05</td>\n",
              "      <td>1</td>\n",
              "      <td>363.0</td>\n",
              "      <td>1.0</td>\n",
              "      <td>NaN</td>\n",
              "      <td>0</td>\n",
              "    </tr>\n",
              "    <tr>\n",
              "      <th>1</th>\n",
              "      <td>329306</td>\n",
              "      <td>880571</td>\n",
              "      <td>78702</td>\n",
              "      <td>30.27232</td>\n",
              "      <td>-97.72579</td>\n",
              "      <td>63.0</td>\n",
              "      <td>2</td>\n",
              "      <td>570.0</td>\n",
              "      <td>4.36</td>\n",
              "      <td>5</td>\n",
              "      <td>55.0</td>\n",
              "      <td>45.0</td>\n",
              "      <td>NaN</td>\n",
              "      <td>2</td>\n",
              "    </tr>\n",
              "    <tr>\n",
              "      <th>2</th>\n",
              "      <td>331549</td>\n",
              "      <td>1690383</td>\n",
              "      <td>78725</td>\n",
              "      <td>30.23911</td>\n",
              "      <td>-97.58625</td>\n",
              "      <td>100.0</td>\n",
              "      <td>2</td>\n",
              "      <td>NaN</td>\n",
              "      <td>NaN</td>\n",
              "      <td>1</td>\n",
              "      <td>NaN</td>\n",
              "      <td>NaN</td>\n",
              "      <td>NaN</td>\n",
              "      <td>2</td>\n",
              "    </tr>\n",
              "    <tr>\n",
              "      <th>3</th>\n",
              "      <td>333815</td>\n",
              "      <td>372962</td>\n",
              "      <td>78704</td>\n",
              "      <td>30.25381</td>\n",
              "      <td>-97.75262</td>\n",
              "      <td>102.0</td>\n",
              "      <td>2</td>\n",
              "      <td>164.0</td>\n",
              "      <td>1.26</td>\n",
              "      <td>1</td>\n",
              "      <td>36.0</td>\n",
              "      <td>18.0</td>\n",
              "      <td>NaN</td>\n",
              "      <td>2</td>\n",
              "    </tr>\n",
              "    <tr>\n",
              "      <th>4</th>\n",
              "      <td>333442</td>\n",
              "      <td>1698318</td>\n",
              "      <td>78703</td>\n",
              "      <td>30.31267</td>\n",
              "      <td>-97.76641</td>\n",
              "      <td>286.0</td>\n",
              "      <td>3</td>\n",
              "      <td>163.0</td>\n",
              "      <td>1.32</td>\n",
              "      <td>1</td>\n",
              "      <td>271.0</td>\n",
              "      <td>15.0</td>\n",
              "      <td>NaN</td>\n",
              "      <td>0</td>\n",
              "    </tr>\n",
              "  </tbody>\n",
              "</table>\n",
              "</div>\n",
              "      <button class=\"colab-df-convert\" onclick=\"convertToInteractive('df-aa330a21-1614-4319-81ee-076f0074849c')\"\n",
              "              title=\"Convert this dataframe to an interactive table.\"\n",
              "              style=\"display:none;\">\n",
              "        \n",
              "  <svg xmlns=\"http://www.w3.org/2000/svg\" height=\"24px\"viewBox=\"0 0 24 24\"\n",
              "       width=\"24px\">\n",
              "    <path d=\"M0 0h24v24H0V0z\" fill=\"none\"/>\n",
              "    <path d=\"M18.56 5.44l.94 2.06.94-2.06 2.06-.94-2.06-.94-.94-2.06-.94 2.06-2.06.94zm-11 1L8.5 8.5l.94-2.06 2.06-.94-2.06-.94L8.5 2.5l-.94 2.06-2.06.94zm10 10l.94 2.06.94-2.06 2.06-.94-2.06-.94-.94-2.06-.94 2.06-2.06.94z\"/><path d=\"M17.41 7.96l-1.37-1.37c-.4-.4-.92-.59-1.43-.59-.52 0-1.04.2-1.43.59L10.3 9.45l-7.72 7.72c-.78.78-.78 2.05 0 2.83L4 21.41c.39.39.9.59 1.41.59.51 0 1.02-.2 1.41-.59l7.78-7.78 2.81-2.81c.8-.78.8-2.07 0-2.86zM5.41 20L4 18.59l7.72-7.72 1.47 1.35L5.41 20z\"/>\n",
              "  </svg>\n",
              "      </button>\n",
              "      \n",
              "  <style>\n",
              "    .colab-df-container {\n",
              "      display:flex;\n",
              "      flex-wrap:wrap;\n",
              "      gap: 12px;\n",
              "    }\n",
              "\n",
              "    .colab-df-convert {\n",
              "      background-color: #E8F0FE;\n",
              "      border: none;\n",
              "      border-radius: 50%;\n",
              "      cursor: pointer;\n",
              "      display: none;\n",
              "      fill: #1967D2;\n",
              "      height: 32px;\n",
              "      padding: 0 0 0 0;\n",
              "      width: 32px;\n",
              "    }\n",
              "\n",
              "    .colab-df-convert:hover {\n",
              "      background-color: #E2EBFA;\n",
              "      box-shadow: 0px 1px 2px rgba(60, 64, 67, 0.3), 0px 1px 3px 1px rgba(60, 64, 67, 0.15);\n",
              "      fill: #174EA6;\n",
              "    }\n",
              "\n",
              "    [theme=dark] .colab-df-convert {\n",
              "      background-color: #3B4455;\n",
              "      fill: #D2E3FC;\n",
              "    }\n",
              "\n",
              "    [theme=dark] .colab-df-convert:hover {\n",
              "      background-color: #434B5C;\n",
              "      box-shadow: 0px 1px 3px 1px rgba(0, 0, 0, 0.15);\n",
              "      filter: drop-shadow(0px 1px 2px rgba(0, 0, 0, 0.3));\n",
              "      fill: #FFFFFF;\n",
              "    }\n",
              "  </style>\n",
              "\n",
              "      <script>\n",
              "        const buttonEl =\n",
              "          document.querySelector('#df-aa330a21-1614-4319-81ee-076f0074849c button.colab-df-convert');\n",
              "        buttonEl.style.display =\n",
              "          google.colab.kernel.accessAllowed ? 'block' : 'none';\n",
              "\n",
              "        async function convertToInteractive(key) {\n",
              "          const element = document.querySelector('#df-aa330a21-1614-4319-81ee-076f0074849c');\n",
              "          const dataTable =\n",
              "            await google.colab.kernel.invokeFunction('convertToInteractive',\n",
              "                                                     [key], {});\n",
              "          if (!dataTable) return;\n",
              "\n",
              "          const docLinkHtml = 'Like what you see? Visit the ' +\n",
              "            '<a target=\"_blank\" href=https://colab.research.google.com/notebooks/data_table.ipynb>data table notebook</a>'\n",
              "            + ' to learn more about interactive tables.';\n",
              "          element.innerHTML = '';\n",
              "          dataTable['output_type'] = 'display_data';\n",
              "          await google.colab.output.renderOutput(dataTable, element);\n",
              "          const docLink = document.createElement('div');\n",
              "          docLink.innerHTML = docLinkHtml;\n",
              "          element.appendChild(docLink);\n",
              "        }\n",
              "      </script>\n",
              "    </div>\n",
              "  </div>\n",
              "  "
            ]
          },
          "metadata": {},
          "execution_count": 24
        }
      ]
    },
    {
      "cell_type": "code",
      "source": [
        "# AGAIN CHECKING NULL VALUES IN EACH COLUMNS.\n",
        "\n",
        "df.isnull().sum()"
      ],
      "metadata": {
        "colab": {
          "base_uri": "https://localhost:8080/"
        },
        "id": "pt8mkRgKP8ru",
        "outputId": "d930f94f-29c6-4b5e-9549-fc42799cf9d6"
      },
      "execution_count": 38,
      "outputs": [
        {
          "output_type": "execute_result",
          "data": {
            "text/plain": [
              "id                       0\n",
              "host_id                  0\n",
              "neighbourhood            0\n",
              "latitude                 0\n",
              "longitude                0\n",
              "price                    0\n",
              "minimum_nights           0\n",
              "number_of_reviews        0\n",
              "reviews_per_month        0\n",
              "availability_365         0\n",
              "number_of_reviews_ltm    0\n",
              "room_type                0\n",
              "dtype: int64"
            ]
          },
          "metadata": {},
          "execution_count": 38
        }
      ]
    },
    {
      "cell_type": "code",
      "source": [
        "# FIRST IMPUTING MEDIAN VALUES OF A PARTICULAR COLUMN.\n",
        "\n",
        "median = df['number_of_reviews'].median()"
      ],
      "metadata": {
        "id": "3WIjOjaaQCNw"
      },
      "execution_count": 26,
      "outputs": []
    },
    {
      "cell_type": "code",
      "source": [
        "df['number_of_reviews'] = df['number_of_reviews'].fillna(median)"
      ],
      "metadata": {
        "id": "8ywyeZISRgOd"
      },
      "execution_count": 27,
      "outputs": []
    },
    {
      "cell_type": "code",
      "source": [
        "df.head()"
      ],
      "metadata": {
        "colab": {
          "base_uri": "https://localhost:8080/",
          "height": 270
        },
        "id": "sYQq6uySRl8w",
        "outputId": "f3461817-a43a-4b4e-ca08-6b69799c8367"
      },
      "execution_count": 28,
      "outputs": [
        {
          "output_type": "execute_result",
          "data": {
            "text/plain": [
              "       id  host_id  neighbourhood  latitude  longitude  price  minimum_nights  \\\n",
              "0  329172  1680871          78746  30.30085  -97.80794  495.0               3   \n",
              "1  329306   880571          78702  30.27232  -97.72579   63.0               2   \n",
              "2  331549  1690383          78725  30.23911  -97.58625  100.0               2   \n",
              "3  333815   372962          78704  30.25381  -97.75262  102.0               2   \n",
              "4  333442  1698318          78703  30.31267  -97.76641  286.0               3   \n",
              "\n",
              "   number_of_reviews  reviews_per_month  calculated_host_listings_count  \\\n",
              "0                7.0               0.05                               1   \n",
              "1              570.0               4.36                               5   \n",
              "2               14.0                NaN                               1   \n",
              "3              164.0               1.26                               1   \n",
              "4              163.0               1.32                               1   \n",
              "\n",
              "   availability_365  number_of_reviews_ltm  license  room_type  \n",
              "0             363.0                    1.0      NaN          0  \n",
              "1              55.0                   45.0      NaN          2  \n",
              "2               NaN                    NaN      NaN          2  \n",
              "3              36.0                   18.0      NaN          2  \n",
              "4             271.0                   15.0      NaN          0  "
            ],
            "text/html": [
              "\n",
              "  <div id=\"df-4c3ba4cf-f6e6-421a-83c7-3e051445286b\">\n",
              "    <div class=\"colab-df-container\">\n",
              "      <div>\n",
              "<style scoped>\n",
              "    .dataframe tbody tr th:only-of-type {\n",
              "        vertical-align: middle;\n",
              "    }\n",
              "\n",
              "    .dataframe tbody tr th {\n",
              "        vertical-align: top;\n",
              "    }\n",
              "\n",
              "    .dataframe thead th {\n",
              "        text-align: right;\n",
              "    }\n",
              "</style>\n",
              "<table border=\"1\" class=\"dataframe\">\n",
              "  <thead>\n",
              "    <tr style=\"text-align: right;\">\n",
              "      <th></th>\n",
              "      <th>id</th>\n",
              "      <th>host_id</th>\n",
              "      <th>neighbourhood</th>\n",
              "      <th>latitude</th>\n",
              "      <th>longitude</th>\n",
              "      <th>price</th>\n",
              "      <th>minimum_nights</th>\n",
              "      <th>number_of_reviews</th>\n",
              "      <th>reviews_per_month</th>\n",
              "      <th>calculated_host_listings_count</th>\n",
              "      <th>availability_365</th>\n",
              "      <th>number_of_reviews_ltm</th>\n",
              "      <th>license</th>\n",
              "      <th>room_type</th>\n",
              "    </tr>\n",
              "  </thead>\n",
              "  <tbody>\n",
              "    <tr>\n",
              "      <th>0</th>\n",
              "      <td>329172</td>\n",
              "      <td>1680871</td>\n",
              "      <td>78746</td>\n",
              "      <td>30.30085</td>\n",
              "      <td>-97.80794</td>\n",
              "      <td>495.0</td>\n",
              "      <td>3</td>\n",
              "      <td>7.0</td>\n",
              "      <td>0.05</td>\n",
              "      <td>1</td>\n",
              "      <td>363.0</td>\n",
              "      <td>1.0</td>\n",
              "      <td>NaN</td>\n",
              "      <td>0</td>\n",
              "    </tr>\n",
              "    <tr>\n",
              "      <th>1</th>\n",
              "      <td>329306</td>\n",
              "      <td>880571</td>\n",
              "      <td>78702</td>\n",
              "      <td>30.27232</td>\n",
              "      <td>-97.72579</td>\n",
              "      <td>63.0</td>\n",
              "      <td>2</td>\n",
              "      <td>570.0</td>\n",
              "      <td>4.36</td>\n",
              "      <td>5</td>\n",
              "      <td>55.0</td>\n",
              "      <td>45.0</td>\n",
              "      <td>NaN</td>\n",
              "      <td>2</td>\n",
              "    </tr>\n",
              "    <tr>\n",
              "      <th>2</th>\n",
              "      <td>331549</td>\n",
              "      <td>1690383</td>\n",
              "      <td>78725</td>\n",
              "      <td>30.23911</td>\n",
              "      <td>-97.58625</td>\n",
              "      <td>100.0</td>\n",
              "      <td>2</td>\n",
              "      <td>14.0</td>\n",
              "      <td>NaN</td>\n",
              "      <td>1</td>\n",
              "      <td>NaN</td>\n",
              "      <td>NaN</td>\n",
              "      <td>NaN</td>\n",
              "      <td>2</td>\n",
              "    </tr>\n",
              "    <tr>\n",
              "      <th>3</th>\n",
              "      <td>333815</td>\n",
              "      <td>372962</td>\n",
              "      <td>78704</td>\n",
              "      <td>30.25381</td>\n",
              "      <td>-97.75262</td>\n",
              "      <td>102.0</td>\n",
              "      <td>2</td>\n",
              "      <td>164.0</td>\n",
              "      <td>1.26</td>\n",
              "      <td>1</td>\n",
              "      <td>36.0</td>\n",
              "      <td>18.0</td>\n",
              "      <td>NaN</td>\n",
              "      <td>2</td>\n",
              "    </tr>\n",
              "    <tr>\n",
              "      <th>4</th>\n",
              "      <td>333442</td>\n",
              "      <td>1698318</td>\n",
              "      <td>78703</td>\n",
              "      <td>30.31267</td>\n",
              "      <td>-97.76641</td>\n",
              "      <td>286.0</td>\n",
              "      <td>3</td>\n",
              "      <td>163.0</td>\n",
              "      <td>1.32</td>\n",
              "      <td>1</td>\n",
              "      <td>271.0</td>\n",
              "      <td>15.0</td>\n",
              "      <td>NaN</td>\n",
              "      <td>0</td>\n",
              "    </tr>\n",
              "  </tbody>\n",
              "</table>\n",
              "</div>\n",
              "      <button class=\"colab-df-convert\" onclick=\"convertToInteractive('df-4c3ba4cf-f6e6-421a-83c7-3e051445286b')\"\n",
              "              title=\"Convert this dataframe to an interactive table.\"\n",
              "              style=\"display:none;\">\n",
              "        \n",
              "  <svg xmlns=\"http://www.w3.org/2000/svg\" height=\"24px\"viewBox=\"0 0 24 24\"\n",
              "       width=\"24px\">\n",
              "    <path d=\"M0 0h24v24H0V0z\" fill=\"none\"/>\n",
              "    <path d=\"M18.56 5.44l.94 2.06.94-2.06 2.06-.94-2.06-.94-.94-2.06-.94 2.06-2.06.94zm-11 1L8.5 8.5l.94-2.06 2.06-.94-2.06-.94L8.5 2.5l-.94 2.06-2.06.94zm10 10l.94 2.06.94-2.06 2.06-.94-2.06-.94-.94-2.06-.94 2.06-2.06.94z\"/><path d=\"M17.41 7.96l-1.37-1.37c-.4-.4-.92-.59-1.43-.59-.52 0-1.04.2-1.43.59L10.3 9.45l-7.72 7.72c-.78.78-.78 2.05 0 2.83L4 21.41c.39.39.9.59 1.41.59.51 0 1.02-.2 1.41-.59l7.78-7.78 2.81-2.81c.8-.78.8-2.07 0-2.86zM5.41 20L4 18.59l7.72-7.72 1.47 1.35L5.41 20z\"/>\n",
              "  </svg>\n",
              "      </button>\n",
              "      \n",
              "  <style>\n",
              "    .colab-df-container {\n",
              "      display:flex;\n",
              "      flex-wrap:wrap;\n",
              "      gap: 12px;\n",
              "    }\n",
              "\n",
              "    .colab-df-convert {\n",
              "      background-color: #E8F0FE;\n",
              "      border: none;\n",
              "      border-radius: 50%;\n",
              "      cursor: pointer;\n",
              "      display: none;\n",
              "      fill: #1967D2;\n",
              "      height: 32px;\n",
              "      padding: 0 0 0 0;\n",
              "      width: 32px;\n",
              "    }\n",
              "\n",
              "    .colab-df-convert:hover {\n",
              "      background-color: #E2EBFA;\n",
              "      box-shadow: 0px 1px 2px rgba(60, 64, 67, 0.3), 0px 1px 3px 1px rgba(60, 64, 67, 0.15);\n",
              "      fill: #174EA6;\n",
              "    }\n",
              "\n",
              "    [theme=dark] .colab-df-convert {\n",
              "      background-color: #3B4455;\n",
              "      fill: #D2E3FC;\n",
              "    }\n",
              "\n",
              "    [theme=dark] .colab-df-convert:hover {\n",
              "      background-color: #434B5C;\n",
              "      box-shadow: 0px 1px 3px 1px rgba(0, 0, 0, 0.15);\n",
              "      filter: drop-shadow(0px 1px 2px rgba(0, 0, 0, 0.3));\n",
              "      fill: #FFFFFF;\n",
              "    }\n",
              "  </style>\n",
              "\n",
              "      <script>\n",
              "        const buttonEl =\n",
              "          document.querySelector('#df-4c3ba4cf-f6e6-421a-83c7-3e051445286b button.colab-df-convert');\n",
              "        buttonEl.style.display =\n",
              "          google.colab.kernel.accessAllowed ? 'block' : 'none';\n",
              "\n",
              "        async function convertToInteractive(key) {\n",
              "          const element = document.querySelector('#df-4c3ba4cf-f6e6-421a-83c7-3e051445286b');\n",
              "          const dataTable =\n",
              "            await google.colab.kernel.invokeFunction('convertToInteractive',\n",
              "                                                     [key], {});\n",
              "          if (!dataTable) return;\n",
              "\n",
              "          const docLinkHtml = 'Like what you see? Visit the ' +\n",
              "            '<a target=\"_blank\" href=https://colab.research.google.com/notebooks/data_table.ipynb>data table notebook</a>'\n",
              "            + ' to learn more about interactive tables.';\n",
              "          element.innerHTML = '';\n",
              "          dataTable['output_type'] = 'display_data';\n",
              "          await google.colab.output.renderOutput(dataTable, element);\n",
              "          const docLink = document.createElement('div');\n",
              "          docLink.innerHTML = docLinkHtml;\n",
              "          element.appendChild(docLink);\n",
              "        }\n",
              "      </script>\n",
              "    </div>\n",
              "  </div>\n",
              "  "
            ]
          },
          "metadata": {},
          "execution_count": 28
        }
      ]
    },
    {
      "cell_type": "code",
      "source": [
        "# PERFORMING MEDIAN IMPUTATION ON 'reviews_per_month' COLUMN.\n",
        "\n",
        "median = df['reviews_per_month'].median()"
      ],
      "metadata": {
        "id": "chZf0RbTRodV"
      },
      "execution_count": 29,
      "outputs": []
    },
    {
      "cell_type": "code",
      "source": [
        "df['reviews_per_month'] = df['reviews_per_month'].fillna(median)"
      ],
      "metadata": {
        "id": "jwXVUJ_kRx3g"
      },
      "execution_count": 30,
      "outputs": []
    },
    {
      "cell_type": "code",
      "source": [
        "mean = df['availability_365'].mean()"
      ],
      "metadata": {
        "id": "xseSo5kwR8Sz"
      },
      "execution_count": 31,
      "outputs": []
    },
    {
      "cell_type": "code",
      "source": [
        "df['availability_365'] = df['availability_365'].fillna(mean)"
      ],
      "metadata": {
        "id": "lGI6xhfZSIKT"
      },
      "execution_count": 32,
      "outputs": []
    },
    {
      "cell_type": "code",
      "source": [
        "sns.histplot(data=df['availability_365'], kde=True, bins=10)"
      ],
      "metadata": {
        "colab": {
          "base_uri": "https://localhost:8080/",
          "height": 300
        },
        "id": "11W0bhWLSWWy",
        "outputId": "ca29fe01-60eb-4ce1-a710-d803c624eec6"
      },
      "execution_count": null,
      "outputs": [
        {
          "output_type": "execute_result",
          "data": {
            "text/plain": [
              "<Axes: xlabel='availability_365', ylabel='Count'>"
            ]
          },
          "metadata": {},
          "execution_count": 28
        },
        {
          "output_type": "display_data",
          "data": {
            "text/plain": [
              "<Figure size 432x288 with 1 Axes>"
            ],
            "image/png": "[encoded data removed]"
          },
          "metadata": {
            "needs_background": "light"
          }
        }
      ]
    },
    {
      "cell_type": "code",
      "source": [
        "sns.histplot(data=df['number_of_reviews_ltm'], kde=True, bins=10)"
      ],
      "metadata": {
        "colab": {
          "base_uri": "https://localhost:8080/",
          "height": 301
        },
        "id": "j8-P2y6aSeXm",
        "outputId": "c8b00375-18de-4dc3-fa37-3b7c5794cdef"
      },
      "execution_count": null,
      "outputs": [
        {
          "output_type": "execute_result",
          "data": {
            "text/plain": [
              "<Axes: xlabel='number_of_reviews_ltm', ylabel='Count'>"
            ]
          },
          "metadata": {},
          "execution_count": 29
        },
        {
          "output_type": "display_data",
          "data": {
            "text/plain": [
              "<Figure size 432x288 with 1 Axes>"
            ],
            "image/png": "[encoded data removed]"
          },
          "metadata": {
            "needs_background": "light"
          }
        }
      ]
    },
    {
      "cell_type": "code",
      "source": [
        "# PERFORMING MEDIAN IMPUTATION ON 'number_of_reviews_ltm' COLUMN.\n",
        "\n",
        "median = df['number_of_reviews_ltm'].median()"
      ],
      "metadata": {
        "id": "oe1Z5e9IS_7y"
      },
      "execution_count": 34,
      "outputs": []
    },
    {
      "cell_type": "code",
      "source": [
        "df['number_of_reviews_ltm'] = df['number_of_reviews_ltm'].fillna(median)"
      ],
      "metadata": {
        "id": "6pKTEuPxTFNF"
      },
      "execution_count": 35,
      "outputs": []
    },
    {
      "cell_type": "code",
      "source": [
        "df.drop('calculated_host_listings_count', axis=1, inplace=True)"
      ],
      "metadata": {
        "id": "N69sjFE9TObU"
      },
      "execution_count": 36,
      "outputs": []
    },
    {
      "cell_type": "code",
      "source": [
        "df.head()"
      ],
      "metadata": {
        "colab": {
          "base_uri": "https://localhost:8080/",
          "height": 206
        },
        "id": "ojh-kN0eTc5u",
        "outputId": "d030bcdf-611d-48fe-ce77-9814b3da8889"
      },
      "execution_count": null,
      "outputs": [
        {
          "output_type": "execute_result",
          "data": {
            "text/plain": [
              "       id  host_id  neighbourhood  latitude  longitude  price  minimum_nights  \\\n",
              "0  329172  1680871          78746  30.30085  -97.80794  495.0               3   \n",
              "1  329306   880571          78702  30.27232  -97.72579   63.0               2   \n",
              "2  331549  1690383          78725  30.23911  -97.58625  100.0               2   \n",
              "3  333815   372962          78704  30.25381  -97.75262  102.0               2   \n",
              "4  333442  1698318          78703  30.31267  -97.76641  286.0               3   \n",
              "\n",
              "   number_of_reviews  reviews_per_month  availability_365  \\\n",
              "0                7.0               0.05        363.000000   \n",
              "1              570.0               4.36         55.000000   \n",
              "2               14.0               1.00        207.726644   \n",
              "3              164.0               1.26         36.000000   \n",
              "4              163.0               1.32        271.000000   \n",
              "\n",
              "   number_of_reviews_ltm  license  room_type  \n",
              "0                    1.0      NaN          0  \n",
              "1                   45.0      NaN          2  \n",
              "2                   10.0      NaN          2  \n",
              "3                   18.0      NaN          2  \n",
              "4                   15.0      NaN          0  "
            ],
            "text/html": [
              "\n",
              "  <div id=\"df-9cd87752-5803-4643-853d-a246361fc2e8\">\n",
              "    <div class=\"colab-df-container\">\n",
              "      <div>\n",
              "<style scoped>\n",
              "    .dataframe tbody tr th:only-of-type {\n",
              "        vertical-align: middle;\n",
              "    }\n",
              "\n",
              "    .dataframe tbody tr th {\n",
              "        vertical-align: top;\n",
              "    }\n",
              "\n",
              "    .dataframe thead th {\n",
              "        text-align: right;\n",
              "    }\n",
              "</style>\n",
              "<table border=\"1\" class=\"dataframe\">\n",
              "  <thead>\n",
              "    <tr style=\"text-align: right;\">\n",
              "      <th></th>\n",
              "      <th>id</th>\n",
              "      <th>host_id</th>\n",
              "      <th>neighbourhood</th>\n",
              "      <th>latitude</th>\n",
              "      <th>longitude</th>\n",
              "      <th>price</th>\n",
              "      <th>minimum_nights</th>\n",
              "      <th>number_of_reviews</th>\n",
              "      <th>reviews_per_month</th>\n",
              "      <th>availability_365</th>\n",
              "      <th>number_of_reviews_ltm</th>\n",
              "      <th>license</th>\n",
              "      <th>room_type</th>\n",
              "    </tr>\n",
              "  </thead>\n",
              "  <tbody>\n",
              "    <tr>\n",
              "      <th>0</th>\n",
              "      <td>329172</td>\n",
              "      <td>1680871</td>\n",
              "      <td>78746</td>\n",
              "      <td>30.30085</td>\n",
              "      <td>-97.80794</td>\n",
              "      <td>495.0</td>\n",
              "      <td>3</td>\n",
              "      <td>7.0</td>\n",
              "      <td>0.05</td>\n",
              "      <td>363.000000</td>\n",
              "      <td>1.0</td>\n",
              "      <td>NaN</td>\n",
              "      <td>0</td>\n",
              "    </tr>\n",
              "    <tr>\n",
              "      <th>1</th>\n",
              "      <td>329306</td>\n",
              "      <td>880571</td>\n",
              "      <td>78702</td>\n",
              "      <td>30.27232</td>\n",
              "      <td>-97.72579</td>\n",
              "      <td>63.0</td>\n",
              "      <td>2</td>\n",
              "      <td>570.0</td>\n",
              "      <td>4.36</td>\n",
              "      <td>55.000000</td>\n",
              "      <td>45.0</td>\n",
              "      <td>NaN</td>\n",
              "      <td>2</td>\n",
              "    </tr>\n",
              "    <tr>\n",
              "      <th>2</th>\n",
              "      <td>331549</td>\n",
              "      <td>1690383</td>\n",
              "      <td>78725</td>\n",
              "      <td>30.23911</td>\n",
              "      <td>-97.58625</td>\n",
              "      <td>100.0</td>\n",
              "      <td>2</td>\n",
              "      <td>14.0</td>\n",
              "      <td>1.00</td>\n",
              "      <td>207.726644</td>\n",
              "      <td>10.0</td>\n",
              "      <td>NaN</td>\n",
              "      <td>2</td>\n",
              "    </tr>\n",
              "    <tr>\n",
              "      <th>3</th>\n",
              "      <td>333815</td>\n",
              "      <td>372962</td>\n",
              "      <td>78704</td>\n",
              "      <td>30.25381</td>\n",
              "      <td>-97.75262</td>\n",
              "      <td>102.0</td>\n",
              "      <td>2</td>\n",
              "      <td>164.0</td>\n",
              "      <td>1.26</td>\n",
              "      <td>36.000000</td>\n",
              "      <td>18.0</td>\n",
              "      <td>NaN</td>\n",
              "      <td>2</td>\n",
              "    </tr>\n",
              "    <tr>\n",
              "      <th>4</th>\n",
              "      <td>333442</td>\n",
              "      <td>1698318</td>\n",
              "      <td>78703</td>\n",
              "      <td>30.31267</td>\n",
              "      <td>-97.76641</td>\n",
              "      <td>286.0</td>\n",
              "      <td>3</td>\n",
              "      <td>163.0</td>\n",
              "      <td>1.32</td>\n",
              "      <td>271.000000</td>\n",
              "      <td>15.0</td>\n",
              "      <td>NaN</td>\n",
              "      <td>0</td>\n",
              "    </tr>\n",
              "  </tbody>\n",
              "</table>\n",
              "</div>\n",
              "      <button class=\"colab-df-convert\" onclick=\"convertToInteractive('df-9cd87752-5803-4643-853d-a246361fc2e8')\"\n",
              "              title=\"Convert this dataframe to an interactive table.\"\n",
              "              style=\"display:none;\">\n",
              "        \n",
              "  <svg xmlns=\"http://www.w3.org/2000/svg\" height=\"24px\"viewBox=\"0 0 24 24\"\n",
              "       width=\"24px\">\n",
              "    <path d=\"M0 0h24v24H0V0z\" fill=\"none\"/>\n",
              "    <path d=\"M18.56 5.44l.94 2.06.94-2.06 2.06-.94-2.06-.94-.94-2.06-.94 2.06-2.06.94zm-11 1L8.5 8.5l.94-2.06 2.06-.94-2.06-.94L8.5 2.5l-.94 2.06-2.06.94zm10 10l.94 2.06.94-2.06 2.06-.94-2.06-.94-.94-2.06-.94 2.06-2.06.94z\"/><path d=\"M17.41 7.96l-1.37-1.37c-.4-.4-.92-.59-1.43-.59-.52 0-1.04.2-1.43.59L10.3 9.45l-7.72 7.72c-.78.78-.78 2.05 0 2.83L4 21.41c.39.39.9.59 1.41.59.51 0 1.02-.2 1.41-.59l7.78-7.78 2.81-2.81c.8-.78.8-2.07 0-2.86zM5.41 20L4 18.59l7.72-7.72 1.47 1.35L5.41 20z\"/>\n",
              "  </svg>\n",
              "      </button>\n",
              "      \n",
              "  <style>\n",
              "    .colab-df-container {\n",
              "      display:flex;\n",
              "      flex-wrap:wrap;\n",
              "      gap: 12px;\n",
              "    }\n",
              "\n",
              "    .colab-df-convert {\n",
              "      background-color: #E8F0FE;\n",
              "      border: none;\n",
              "      border-radius: 50%;\n",
              "      cursor: pointer;\n",
              "      display: none;\n",
              "      fill: #1967D2;\n",
              "      height: 32px;\n",
              "      padding: 0 0 0 0;\n",
              "      width: 32px;\n",
              "    }\n",
              "\n",
              "    .colab-df-convert:hover {\n",
              "      background-color: #E2EBFA;\n",
              "      box-shadow: 0px 1px 2px rgba(60, 64, 67, 0.3), 0px 1px 3px 1px rgba(60, 64, 67, 0.15);\n",
              "      fill: #174EA6;\n",
              "    }\n",
              "\n",
              "    [theme=dark] .colab-df-convert {\n",
              "      background-color: #3B4455;\n",
              "      fill: #D2E3FC;\n",
              "    }\n",
              "\n",
              "    [theme=dark] .colab-df-convert:hover {\n",
              "      background-color: #434B5C;\n",
              "      box-shadow: 0px 1px 3px 1px rgba(0, 0, 0, 0.15);\n",
              "      filter: drop-shadow(0px 1px 2px rgba(0, 0, 0, 0.3));\n",
              "      fill: #FFFFFF;\n",
              "    }\n",
              "  </style>\n",
              "\n",
              "      <script>\n",
              "        const buttonEl =\n",
              "          document.querySelector('#df-9cd87752-5803-4643-853d-a246361fc2e8 button.colab-df-convert');\n",
              "        buttonEl.style.display =\n",
              "          google.colab.kernel.accessAllowed ? 'block' : 'none';\n",
              "\n",
              "        async function convertToInteractive(key) {\n",
              "          const element = document.querySelector('#df-9cd87752-5803-4643-853d-a246361fc2e8');\n",
              "          const dataTable =\n",
              "            await google.colab.kernel.invokeFunction('convertToInteractive',\n",
              "                                                     [key], {});\n",
              "          if (!dataTable) return;\n",
              "\n",
              "          const docLinkHtml = 'Like what you see? Visit the ' +\n",
              "            '<a target=\"_blank\" href=https://colab.research.google.com/notebooks/data_table.ipynb>data table notebook</a>'\n",
              "            + ' to learn more about interactive tables.';\n",
              "          element.innerHTML = '';\n",
              "          dataTable['output_type'] = 'display_data';\n",
              "          await google.colab.output.renderOutput(dataTable, element);\n",
              "          const docLink = document.createElement('div');\n",
              "          docLink.innerHTML = docLinkHtml;\n",
              "          element.appendChild(docLink);\n",
              "        }\n",
              "      </script>\n",
              "    </div>\n",
              "  </div>\n",
              "  "
            ]
          },
          "metadata": {},
          "execution_count": 33
        }
      ]
    },
    {
      "cell_type": "code",
      "source": [
        "# DROPPING UNWANTED COLUMNS FROM THE DATASET.\n",
        "\n",
        "df.drop('license', axis=1, inplace=True)"
      ],
      "metadata": {
        "id": "fnKpT21jTeIG"
      },
      "execution_count": 37,
      "outputs": []
    },
    {
      "cell_type": "code",
      "source": [
        "sns.histplot(data=df['number_of_reviews_ltm'], kde=True, bins=10)"
      ],
      "metadata": {
        "colab": {
          "base_uri": "https://localhost:8080/",
          "height": 297
        },
        "id": "OEWpD4RZj2ce",
        "outputId": "a25a88e4-c5c9-420c-8902-f8d108742cfa"
      },
      "execution_count": null,
      "outputs": [
        {
          "output_type": "execute_result",
          "data": {
            "text/plain": [
              "<Axes: xlabel='number_of_reviews_ltm', ylabel='Count'>"
            ]
          },
          "metadata": {},
          "execution_count": 36
        },
        {
          "output_type": "display_data",
          "data": {
            "text/plain": [
              "<Figure size 432x288 with 1 Axes>"
            ],
            "image/png": "[encoded data removed]"
          },
          "metadata": {
            "needs_background": "light"
          }
        }
      ]
    },
    {
      "cell_type": "code",
      "source": [
        "df.head()"
      ],
      "metadata": {
        "colab": {
          "base_uri": "https://localhost:8080/",
          "height": 206
        },
        "id": "Gnlws7ZJj-VT",
        "outputId": "60df8466-e2a7-4157-ecc6-4522690c36c5"
      },
      "execution_count": null,
      "outputs": [
        {
          "output_type": "execute_result",
          "data": {
            "text/plain": [
              "       id  host_id  neighbourhood  latitude  longitude  price  minimum_nights  \\\n",
              "0  329172  1680871          78746  30.30085  -97.80794  495.0               3   \n",
              "1  329306   880571          78702  30.27232  -97.72579   63.0               2   \n",
              "2  331549  1690383          78725  30.23911  -97.58625  100.0               2   \n",
              "3  333815   372962          78704  30.25381  -97.75262  102.0               2   \n",
              "4  333442  1698318          78703  30.31267  -97.76641  286.0               3   \n",
              "\n",
              "   number_of_reviews  reviews_per_month  availability_365  \\\n",
              "0                7.0               0.05        363.000000   \n",
              "1              570.0               4.36         55.000000   \n",
              "2               14.0               1.00        207.726644   \n",
              "3              164.0               1.26         36.000000   \n",
              "4              163.0               1.32        271.000000   \n",
              "\n",
              "   number_of_reviews_ltm  room_type  \n",
              "0                    1.0          0  \n",
              "1                   45.0          2  \n",
              "2                   10.0          2  \n",
              "3                   18.0          2  \n",
              "4                   15.0          0  "
            ],
            "text/html": [
              "\n",
              "  <div id=\"df-039d3dee-e09f-458e-b76a-680c1ff65718\">\n",
              "    <div class=\"colab-df-container\">\n",
              "      <div>\n",
              "<style scoped>\n",
              "    .dataframe tbody tr th:only-of-type {\n",
              "        vertical-align: middle;\n",
              "    }\n",
              "\n",
              "    .dataframe tbody tr th {\n",
              "        vertical-align: top;\n",
              "    }\n",
              "\n",
              "    .dataframe thead th {\n",
              "        text-align: right;\n",
              "    }\n",
              "</style>\n",
              "<table border=\"1\" class=\"dataframe\">\n",
              "  <thead>\n",
              "    <tr style=\"text-align: right;\">\n",
              "      <th></th>\n",
              "      <th>id</th>\n",
              "      <th>host_id</th>\n",
              "      <th>neighbourhood</th>\n",
              "      <th>latitude</th>\n",
              "      <th>longitude</th>\n",
              "      <th>price</th>\n",
              "      <th>minimum_nights</th>\n",
              "      <th>number_of_reviews</th>\n",
              "      <th>reviews_per_month</th>\n",
              "      <th>availability_365</th>\n",
              "      <th>number_of_reviews_ltm</th>\n",
              "      <th>room_type</th>\n",
              "    </tr>\n",
              "  </thead>\n",
              "  <tbody>\n",
              "    <tr>\n",
              "      <th>0</th>\n",
              "      <td>329172</td>\n",
              "      <td>1680871</td>\n",
              "      <td>78746</td>\n",
              "      <td>30.30085</td>\n",
              "      <td>-97.80794</td>\n",
              "      <td>495.0</td>\n",
              "      <td>3</td>\n",
              "      <td>7.0</td>\n",
              "      <td>0.05</td>\n",
              "      <td>363.000000</td>\n",
              "      <td>1.0</td>\n",
              "      <td>0</td>\n",
              "    </tr>\n",
              "    <tr>\n",
              "      <th>1</th>\n",
              "      <td>329306</td>\n",
              "      <td>880571</td>\n",
              "      <td>78702</td>\n",
              "      <td>30.27232</td>\n",
              "      <td>-97.72579</td>\n",
              "      <td>63.0</td>\n",
              "      <td>2</td>\n",
              "      <td>570.0</td>\n",
              "      <td>4.36</td>\n",
              "      <td>55.000000</td>\n",
              "      <td>45.0</td>\n",
              "      <td>2</td>\n",
              "    </tr>\n",
              "    <tr>\n",
              "      <th>2</th>\n",
              "      <td>331549</td>\n",
              "      <td>1690383</td>\n",
              "      <td>78725</td>\n",
              "      <td>30.23911</td>\n",
              "      <td>-97.58625</td>\n",
              "      <td>100.0</td>\n",
              "      <td>2</td>\n",
              "      <td>14.0</td>\n",
              "      <td>1.00</td>\n",
              "      <td>207.726644</td>\n",
              "      <td>10.0</td>\n",
              "      <td>2</td>\n",
              "    </tr>\n",
              "    <tr>\n",
              "      <th>3</th>\n",
              "      <td>333815</td>\n",
              "      <td>372962</td>\n",
              "      <td>78704</td>\n",
              "      <td>30.25381</td>\n",
              "      <td>-97.75262</td>\n",
              "      <td>102.0</td>\n",
              "      <td>2</td>\n",
              "      <td>164.0</td>\n",
              "      <td>1.26</td>\n",
              "      <td>36.000000</td>\n",
              "      <td>18.0</td>\n",
              "      <td>2</td>\n",
              "    </tr>\n",
              "    <tr>\n",
              "      <th>4</th>\n",
              "      <td>333442</td>\n",
              "      <td>1698318</td>\n",
              "      <td>78703</td>\n",
              "      <td>30.31267</td>\n",
              "      <td>-97.76641</td>\n",
              "      <td>286.0</td>\n",
              "      <td>3</td>\n",
              "      <td>163.0</td>\n",
              "      <td>1.32</td>\n",
              "      <td>271.000000</td>\n",
              "      <td>15.0</td>\n",
              "      <td>0</td>\n",
              "    </tr>\n",
              "  </tbody>\n",
              "</table>\n",
              "</div>\n",
              "      <button class=\"colab-df-convert\" onclick=\"convertToInteractive('df-039d3dee-e09f-458e-b76a-680c1ff65718')\"\n",
              "              title=\"Convert this dataframe to an interactive table.\"\n",
              "              style=\"display:none;\">\n",
              "        \n",
              "  <svg xmlns=\"http://www.w3.org/2000/svg\" height=\"24px\"viewBox=\"0 0 24 24\"\n",
              "       width=\"24px\">\n",
              "    <path d=\"M0 0h24v24H0V0z\" fill=\"none\"/>\n",
              "    <path d=\"M18.56 5.44l.94 2.06.94-2.06 2.06-.94-2.06-.94-.94-2.06-.94 2.06-2.06.94zm-11 1L8.5 8.5l.94-2.06 2.06-.94-2.06-.94L8.5 2.5l-.94 2.06-2.06.94zm10 10l.94 2.06.94-2.06 2.06-.94-2.06-.94-.94-2.06-.94 2.06-2.06.94z\"/><path d=\"M17.41 7.96l-1.37-1.37c-.4-.4-.92-.59-1.43-.59-.52 0-1.04.2-1.43.59L10.3 9.45l-7.72 7.72c-.78.78-.78 2.05 0 2.83L4 21.41c.39.39.9.59 1.41.59.51 0 1.02-.2 1.41-.59l7.78-7.78 2.81-2.81c.8-.78.8-2.07 0-2.86zM5.41 20L4 18.59l7.72-7.72 1.47 1.35L5.41 20z\"/>\n",
              "  </svg>\n",
              "      </button>\n",
              "      \n",
              "  <style>\n",
              "    .colab-df-container {\n",
              "      display:flex;\n",
              "      flex-wrap:wrap;\n",
              "      gap: 12px;\n",
              "    }\n",
              "\n",
              "    .colab-df-convert {\n",
              "      background-color: #E8F0FE;\n",
              "      border: none;\n",
              "      border-radius: 50%;\n",
              "      cursor: pointer;\n",
              "      display: none;\n",
              "      fill: #1967D2;\n",
              "      height: 32px;\n",
              "      padding: 0 0 0 0;\n",
              "      width: 32px;\n",
              "    }\n",
              "\n",
              "    .colab-df-convert:hover {\n",
              "      background-color: #E2EBFA;\n",
              "      box-shadow: 0px 1px 2px rgba(60, 64, 67, 0.3), 0px 1px 3px 1px rgba(60, 64, 67, 0.15);\n",
              "      fill: #174EA6;\n",
              "    }\n",
              "\n",
              "    [theme=dark] .colab-df-convert {\n",
              "      background-color: #3B4455;\n",
              "      fill: #D2E3FC;\n",
              "    }\n",
              "\n",
              "    [theme=dark] .colab-df-convert:hover {\n",
              "      background-color: #434B5C;\n",
              "      box-shadow: 0px 1px 3px 1px rgba(0, 0, 0, 0.15);\n",
              "      filter: drop-shadow(0px 1px 2px rgba(0, 0, 0, 0.3));\n",
              "      fill: #FFFFFF;\n",
              "    }\n",
              "  </style>\n",
              "\n",
              "      <script>\n",
              "        const buttonEl =\n",
              "          document.querySelector('#df-039d3dee-e09f-458e-b76a-680c1ff65718 button.colab-df-convert');\n",
              "        buttonEl.style.display =\n",
              "          google.colab.kernel.accessAllowed ? 'block' : 'none';\n",
              "\n",
              "        async function convertToInteractive(key) {\n",
              "          const element = document.querySelector('#df-039d3dee-e09f-458e-b76a-680c1ff65718');\n",
              "          const dataTable =\n",
              "            await google.colab.kernel.invokeFunction('convertToInteractive',\n",
              "                                                     [key], {});\n",
              "          if (!dataTable) return;\n",
              "\n",
              "          const docLinkHtml = 'Like what you see? Visit the ' +\n",
              "            '<a target=\"_blank\" href=https://colab.research.google.com/notebooks/data_table.ipynb>data table notebook</a>'\n",
              "            + ' to learn more about interactive tables.';\n",
              "          element.innerHTML = '';\n",
              "          dataTable['output_type'] = 'display_data';\n",
              "          await google.colab.output.renderOutput(dataTable, element);\n",
              "          const docLink = document.createElement('div');\n",
              "          docLink.innerHTML = docLinkHtml;\n",
              "          element.appendChild(docLink);\n",
              "        }\n",
              "      </script>\n",
              "    </div>\n",
              "  </div>\n",
              "  "
            ]
          },
          "metadata": {},
          "execution_count": 37
        }
      ]
    },
    {
      "cell_type": "markdown",
      "source": [
        "**STEP 4.** **VISUALIZATION OF EACH INDEPENDENT FEATURES AND HOW FEATURES ARE DISTRIBUTED.**"
      ],
      "metadata": {
        "id": "L4ruFf3uwSR3"
      }
    },
    {
      "cell_type": "code",
      "source": [
        "# CREATING COPY OF DATASET.\n",
        "\n",
        "df1 = df.copy()"
      ],
      "metadata": {
        "id": "cMZzPx9HkF1c"
      },
      "execution_count": 39,
      "outputs": []
    },
    {
      "cell_type": "code",
      "source": [
        "# VISUALIZING 'minimum_nights' COLUMN USING BOXPLOT.\n",
        "\n",
        "sns.boxplot(data=df1['minimum_nights'])"
      ],
      "metadata": {
        "colab": {
          "base_uri": "https://localhost:8080/",
          "height": 447
        },
        "id": "RAu7W4bikI8Z",
        "outputId": "86f41ea9-aad5-4717-e673-65d8a5a7d543"
      },
      "execution_count": 40,
      "outputs": [
        {
          "output_type": "execute_result",
          "data": {
            "text/plain": [
              "<Axes: >"
            ]
          },
          "metadata": {},
          "execution_count": 40
        },
        {
          "output_type": "display_data",
          "data": {
            "text/plain": [
              "<Figure size 640x480 with 1 Axes>"
            ],
            "image/png": "[encoded data removed]"
          },
          "metadata": {}
        }
      ]
    },
    {
      "cell_type": "markdown",
      "source": [
        "**IN THIS COLUMN, 'minimum_nights', WE CAN CLEARLY SEE THAT OUTLIERS ARE PRESENT. IT NEEDS TO BE HANDLED WITH APPROPRIATE OUTLIER ANALYSIS TECHNIQUE.**"
      ],
      "metadata": {
        "id": "Sho9ZsSiwqs3"
      }
    },
    {
      "cell_type": "code",
      "source": [
        "# VISUALIZING 'number_of_reviews' COLUMN USING BOXPLOT.\n",
        "\n",
        "sns.boxplot(data=df1['number_of_reviews'])"
      ],
      "metadata": {
        "colab": {
          "base_uri": "https://localhost:8080/",
          "height": 447
        },
        "id": "nKRNMxQDkcKu",
        "outputId": "f4a0c9ec-ad56-40fc-f5ba-2729fd221944"
      },
      "execution_count": 41,
      "outputs": [
        {
          "output_type": "execute_result",
          "data": {
            "text/plain": [
              "<Axes: >"
            ]
          },
          "metadata": {},
          "execution_count": 41
        },
        {
          "output_type": "display_data",
          "data": {
            "text/plain": [
              "<Figure size 640x480 with 1 Axes>"
            ],
            "image/png": "[encoded data removed]"
          },
          "metadata": {}
        }
      ]
    },
    {
      "cell_type": "markdown",
      "source": [
        "**IN THIS COLUMN, 'number_of_reviews', WE CAN CLEARLY SEE THAT OUTLIERS ARE PRESENT. IT NEEDS TO BE HANDLED WITH APPROPRIATE OUTLIER ANALYSIS TECHNIQUE.**"
      ],
      "metadata": {
        "id": "--thTBqvxCTH"
      }
    },
    {
      "cell_type": "code",
      "source": [
        "# VISUALIZING 'reviews_per_monmth' COLUMN USING BOXPLOT.\n",
        "\n",
        "sns.boxplot(data=df1['reviews_per_month'])"
      ],
      "metadata": {
        "colab": {
          "base_uri": "https://localhost:8080/",
          "height": 447
        },
        "id": "5XHxAGtnklVW",
        "outputId": "ddbcd07b-9a38-4677-bbbd-bfe198761a10"
      },
      "execution_count": 42,
      "outputs": [
        {
          "output_type": "execute_result",
          "data": {
            "text/plain": [
              "<Axes: >"
            ]
          },
          "metadata": {},
          "execution_count": 42
        },
        {
          "output_type": "display_data",
          "data": {
            "text/plain": [
              "<Figure size 640x480 with 1 Axes>"
            ],
            "image/png": "[encoded data removed]"
          },
          "metadata": {}
        }
      ]
    },
    {
      "cell_type": "markdown",
      "source": [
        "**IN THIS COLUMN, 'reviews_per_month', WE CAN CLEARLY SEE THAT OUTLIERS ARE PRESENT. IT NEEDS TO BE HANDLED WITH APPROPRIATE OUTLIER ANALYSIS TECHNIQUE.**"
      ],
      "metadata": {
        "id": "UpkaMmAexWOU"
      }
    },
    {
      "cell_type": "code",
      "source": [
        "# VISUALIZING 'availability_365' COLUMN USING BOXPLOT\n",
        "\n",
        "sns.boxplot(data=df1['availability_365'])"
      ],
      "metadata": {
        "colab": {
          "base_uri": "https://localhost:8080/",
          "height": 447
        },
        "id": "1_hXqPMkkpvh",
        "outputId": "9f3aa318-e5d5-43ff-9fc8-9fa364421f0a"
      },
      "execution_count": 43,
      "outputs": [
        {
          "output_type": "execute_result",
          "data": {
            "text/plain": [
              "<Axes: >"
            ]
          },
          "metadata": {},
          "execution_count": 43
        },
        {
          "output_type": "display_data",
          "data": {
            "text/plain": [
              "<Figure size 640x480 with 1 Axes>"
            ],
            "image/png": "[encoded data removed]"
          },
          "metadata": {}
        }
      ]
    },
    {
      "cell_type": "code",
      "source": [
        "# VISUALIZING 'number_of_reviews_ltm' COLUMN USING BOXPLOT\n",
        "\n",
        "sns.boxplot(data=df1['number_of_reviews_ltm'])"
      ],
      "metadata": {
        "colab": {
          "base_uri": "https://localhost:8080/",
          "height": 447
        },
        "id": "tpv0oKn_kuK0",
        "outputId": "35e35c74-d3ad-4ab3-a965-ce1494d424df"
      },
      "execution_count": 44,
      "outputs": [
        {
          "output_type": "execute_result",
          "data": {
            "text/plain": [
              "<Axes: >"
            ]
          },
          "metadata": {},
          "execution_count": 44
        },
        {
          "output_type": "display_data",
          "data": {
            "text/plain": [
              "<Figure size 640x480 with 1 Axes>"
            ],
            "image/png": "[encoded data removed]"
          },
          "metadata": {}
        }
      ]
    },
    {
      "cell_type": "markdown",
      "source": [
        "**1. FROM ALL THE ABOVE COLUMNS WE CAN CLEARLY SEE THAT THERE ARE MANY OUTLIERS PRESENT.**\n",
        "\n",
        "**2. WE CAN DO EITHER ONE THINGS. EITHER WE CAN USE OUTLIER ANALYSIS OR WE CAN USE TRANSFORMATION TECHNIQUES SINCE IF OUTLIERS ARE PRESENT THEN FOR SURE SKEWNESS WILL BE THERE.**\n",
        "\n",
        "**2. HERE IAM USING BOTH NECESSARY OUTLIER ANALYSIS SUCH AS IQR (INTER QUARTILE RANGE) OR Z-SCORE AND TRANSFORMATION TECHNIQUE LIKE LOG TRANSFORMATION ON SOME VARIABLES.**"
      ],
      "metadata": {
        "id": "To3d4ow9xq7X"
      }
    },
    {
      "cell_type": "code",
      "source": [
        "# Performing the IQR of the 'minimum_nights' column\n",
        "\n",
        "Q1 = df1['minimum_nights'].quantile(0.25)\n",
        "Q3 = df1['minimum_nights'].quantile(0.75)\n",
        "IQR = Q3 - Q1\n",
        "\n",
        "# Identify the outliers\n",
        "lower_range = Q1 - 1.5*IQR\n",
        "upper_range = Q3 + 1.5*IQR\n",
        "outliers = df1[(df1['minimum_nights'] < lower_range) | (df1['minimum_nights'] > upper_range)]\n",
        "\n",
        "# Make changes in the existing dataset\n",
        "df1 = df1.drop(outliers.index)\n",
        "\n",
        "# Save the changes\n",
        "df1.to_csv('listings.csv', index=False)"
      ],
      "metadata": {
        "id": "sKQfbTeEk0K3"
      },
      "execution_count": 46,
      "outputs": []
    },
    {
      "cell_type": "code",
      "source": [
        "# CHECKING HISTOGRAM PLOT FOR 'minimum_nights' COLUMN.\n",
        "\n",
        "sns.histplot(data=df1['minimum_nights'], kde=True,bins=10)"
      ],
      "metadata": {
        "colab": {
          "base_uri": "https://localhost:8080/",
          "height": 467
        },
        "id": "Qhh5YWBtlwGK",
        "outputId": "a3b3156b-3ac0-456a-80ea-4637aab9a16d"
      },
      "execution_count": 47,
      "outputs": [
        {
          "output_type": "execute_result",
          "data": {
            "text/plain": [
              "<Axes: xlabel='minimum_nights', ylabel='Count'>"
            ]
          },
          "metadata": {},
          "execution_count": 47
        },
        {
          "output_type": "display_data",
          "data": {
            "text/plain": [
              "<Figure size 640x480 with 1 Axes>"
            ],
            "image/png": "[encoded data removed]"
          },
          "metadata": {}
        }
      ]
    },
    {
      "cell_type": "markdown",
      "source": [
        "**HERE WE CAN SEE THAT 'minimum_nights' COLUMN NOW BECOMES NORMALLY DISTRIBUTED AFTER PERFORMING IQR.**"
      ],
      "metadata": {
        "id": "vW5w4FUgyrx7"
      }
    },
    {
      "cell_type": "code",
      "source": [
        "# VISUALIZING BOXPLOT ON 'minimum_nights' COLUMN.\n",
        "\n",
        "sns.boxplot(data=df1['minimum_nights'])"
      ],
      "metadata": {
        "id": "rpo5OcwEl6GQ",
        "colab": {
          "base_uri": "https://localhost:8080/",
          "height": 447
        },
        "outputId": "ad013931-1942-45dd-e620-a501e375db81"
      },
      "execution_count": 48,
      "outputs": [
        {
          "output_type": "execute_result",
          "data": {
            "text/plain": [
              "<Axes: >"
            ]
          },
          "metadata": {},
          "execution_count": 48
        },
        {
          "output_type": "display_data",
          "data": {
            "text/plain": [
              "<Figure size 640x480 with 1 Axes>"
            ],
            "image/png": "[encoded data removed]"
          },
          "metadata": {}
        }
      ]
    },
    {
      "cell_type": "markdown",
      "source": [
        "**HERE WE CAN SEE THAT OUTLIERS OF 'minimum_nights' COLUMN HAS BEEN PERFORMED.**"
      ],
      "metadata": {
        "id": "osbqw1x8zCVx"
      }
    },
    {
      "cell_type": "code",
      "source": [
        "# performing the IQR of the 'number_of_reviews' column\n",
        "\n",
        "Q1 = df1['number_of_reviews'].quantile(0.25)\n",
        "Q3 = df1['number_of_reviews'].quantile(0.75)\n",
        "IQR = Q3 - Q1\n",
        "\n",
        "# Identify the outliers\n",
        "lower_range = Q1 - 1.5*IQR\n",
        "upper_range = Q3 + 1.5*IQR\n",
        "outliers = df1[(df1['number_of_reviews'] < lower_range) | (df1['number_of_reviews'] > upper_range)]\n",
        "\n",
        "# Make changes in the existing dataset\n",
        "df1 = df1.drop(outliers.index)\n",
        "\n",
        "# Save the changes\n",
        "df1.to_csv('listings.csv', index=False)"
      ],
      "metadata": {
        "id": "B26ltfL1mA2L"
      },
      "execution_count": 49,
      "outputs": []
    },
    {
      "cell_type": "code",
      "source": [
        "# VISUALIZING 'number_of_reviews' COLUMN USING HISTOGRAM.\n",
        "\n",
        "sns.histplot(data=df1['number_of_reviews'], kde=True,bins=10)"
      ],
      "metadata": {
        "colab": {
          "base_uri": "https://localhost:8080/",
          "height": 467
        },
        "id": "XSaYOuYZnIPA",
        "outputId": "0ac8a362-5b1b-4cb9-dc36-f0b94b2dc295"
      },
      "execution_count": 52,
      "outputs": [
        {
          "output_type": "execute_result",
          "data": {
            "text/plain": [
              "<Axes: xlabel='number_of_reviews', ylabel='Count'>"
            ]
          },
          "metadata": {},
          "execution_count": 52
        },
        {
          "output_type": "display_data",
          "data": {
            "text/plain": [
              "<Figure size 640x480 with 1 Axes>"
            ],
            "image/png": "[encoded data removed]"
          },
          "metadata": {}
        }
      ]
    },
    {
      "cell_type": "markdown",
      "source": [
        "**HERE THE ABOVE HSITOGRAM PLOT CLEARLY GIVES NORMAL DISTRIBUTION OF VARIABLE AFTER PERFORMING BOTH IQR AND LOG TRANSFORMATION.**"
      ],
      "metadata": {
        "id": "zt2YEuwhzW0O"
      }
    },
    {
      "cell_type": "code",
      "source": [
        "# VISUALIZING 'number_of_reviews' using boxplot\n",
        "\n",
        "sns.boxplot(data=df1['number_of_reviews'])"
      ],
      "metadata": {
        "colab": {
          "base_uri": "https://localhost:8080/",
          "height": 447
        },
        "id": "ld7lnFqezm54",
        "outputId": "996546a3-a482-4a69-9e48-d8bea0dbf8bc"
      },
      "execution_count": 53,
      "outputs": [
        {
          "output_type": "execute_result",
          "data": {
            "text/plain": [
              "<Axes: >"
            ]
          },
          "metadata": {},
          "execution_count": 53
        },
        {
          "output_type": "display_data",
          "data": {
            "text/plain": [
              "<Figure size 640x480 with 1 Axes>"
            ],
            "image/png": "[encoded data removed]"
          },
          "metadata": {}
        }
      ]
    },
    {
      "cell_type": "markdown",
      "source": [
        "**HERE WE CAN SEE THAT OUTLIERS OF 'number_of_reviews' COLUMN HAS BEEN PERFORMED.**"
      ],
      "metadata": {
        "id": "9kWjchibz5qW"
      }
    },
    {
      "cell_type": "code",
      "source": [
        "# performing LOG TRANSFORMATION on 'number_of_reviews'.\n",
        "\n",
        "df1['number_of_reviews'] = np.log(df1['number_of_reviews'])"
      ],
      "metadata": {
        "id": "cPIsUmUPnOO_"
      },
      "execution_count": 51,
      "outputs": []
    },
    {
      "cell_type": "code",
      "source": [
        "# performing the IQR of the 'reviews_per_month' column\n",
        "\n",
        "Q1 = df1['reviews_per_month'].quantile(0.25)\n",
        "Q3 = df1['reviews_per_month'].quantile(0.75)\n",
        "IQR = Q3 - Q1\n",
        "\n",
        "# Identify the outliers\n",
        "lower_range = Q1 - 1.5*IQR\n",
        "upper_range = Q3 + 1.5*IQR\n",
        "outliers = df1[(df1['reviews_per_month'] < lower_range) | (df1['reviews_per_month'] > upper_range)]\n",
        "\n",
        "# Make changes in the existing dataset\n",
        "df1 = df1.drop(outliers.index)\n",
        "\n",
        "# Save the changes\n",
        "df1.to_csv('listings.csv', index=False)"
      ],
      "metadata": {
        "id": "xiEkUf9gnXzD"
      },
      "execution_count": 71,
      "outputs": []
    },
    {
      "cell_type": "code",
      "source": [
        "# VISUALIZING 'reviews_per_month' COLUMN USING HISTOGRAM.\n",
        "\n",
        "sns.histplot(data=df1['reviews_per_month'], kde=True,bins=10)"
      ],
      "metadata": {
        "colab": {
          "base_uri": "https://localhost:8080/",
          "height": 470
        },
        "id": "y1nVTZjrnqX8",
        "outputId": "60778e46-5943-42b0-d36a-1c05eb2e77d7"
      },
      "execution_count": 72,
      "outputs": [
        {
          "output_type": "execute_result",
          "data": {
            "text/plain": [
              "<Axes: xlabel='reviews_per_month', ylabel='Count'>"
            ]
          },
          "metadata": {},
          "execution_count": 72
        },
        {
          "output_type": "display_data",
          "data": {
            "text/plain": [
              "<Figure size 640x480 with 1 Axes>"
            ],
            "image/png": "[encoded data removed]"
          },
          "metadata": {}
        }
      ]
    },
    {
      "cell_type": "markdown",
      "source": [
        "**HERE THE VARIABLE BECOMES NORMALLY DISTRIBUTED TO SOME EXTEND.**"
      ],
      "metadata": {
        "id": "RXjdYpPL0dcE"
      }
    },
    {
      "cell_type": "code",
      "source": [
        "# VISUALIZING 'reviews_per_month' COLUMN USING BOXPLOT.\n",
        "\n",
        "sns.boxplot(data=df1['reviews_per_month'])"
      ],
      "metadata": {
        "id": "85WHJ3yHn3j4",
        "colab": {
          "base_uri": "https://localhost:8080/",
          "height": 447
        },
        "outputId": "fa22b56f-f401-4000-d967-ab9ad2c00981"
      },
      "execution_count": 73,
      "outputs": [
        {
          "output_type": "execute_result",
          "data": {
            "text/plain": [
              "<Axes: >"
            ]
          },
          "metadata": {},
          "execution_count": 73
        },
        {
          "output_type": "display_data",
          "data": {
            "text/plain": [
              "<Figure size 640x480 with 1 Axes>"
            ],
            "image/png": "[encoded data removed]"
          },
          "metadata": {}
        }
      ]
    },
    {
      "cell_type": "markdown",
      "source": [
        "**HERE WE CAN SEE THAT OUTLIERS OF 'reviews_per_month' COLUMN HAS BEEN PERFORMED.**"
      ],
      "metadata": {
        "id": "WCQzO5Rq03-3"
      }
    },
    {
      "cell_type": "code",
      "source": [
        "# Calculate the IQR of the 'number_of_reviews_ltm' column\n",
        "\n",
        "Q1 = df1['number_of_reviews_ltm'].quantile(0.25)\n",
        "Q3 = df1['number_of_reviews_ltm'].quantile(0.75)\n",
        "IQR = Q3 - Q1\n",
        "\n",
        "# Identify the outliers\n",
        "lower_range = Q1 - 1.5*IQR\n",
        "upper_range = Q3 + 1.5*IQR\n",
        "outliers = df1[(df1['number_of_reviews_ltm'] < lower_range) | (df1['number_of_reviews_ltm'] > upper_range)]\n",
        "\n",
        "# Make changes in the existing dataset\n",
        "df1 = df1.drop(outliers.index)\n",
        "\n",
        "# Save the changes\n",
        "df1.to_csv('listings.csv', index=False)"
      ],
      "metadata": {
        "id": "axt8DhvjsSVB"
      },
      "execution_count": 74,
      "outputs": []
    },
    {
      "cell_type": "code",
      "source": [
        "# VISUALIZING 'number_of_reviews_ltm' COLUMN USING HISTOGRAM.\n",
        "\n",
        "sns.histplot(data=df1['number_of_reviews_ltm'], kde=True, bins=10)"
      ],
      "metadata": {
        "colab": {
          "base_uri": "https://localhost:8080/",
          "height": 467
        },
        "id": "RnHQ7aW0snh-",
        "outputId": "7c22c17e-f85b-421b-e36f-6000ac2bd46f"
      },
      "execution_count": 75,
      "outputs": [
        {
          "output_type": "execute_result",
          "data": {
            "text/plain": [
              "<Axes: xlabel='number_of_reviews_ltm', ylabel='Count'>"
            ]
          },
          "metadata": {},
          "execution_count": 75
        },
        {
          "output_type": "display_data",
          "data": {
            "text/plain": [
              "<Figure size 640x480 with 1 Axes>"
            ],
            "image/png": "[encoded data removed]"
          },
          "metadata": {}
        }
      ]
    },
    {
      "cell_type": "markdown",
      "source": [
        "**HERE THE VARIABLE BECOMES NORMALLY DISTRIBUTED TO SOME EXTEND.**"
      ],
      "metadata": {
        "id": "2vsHPbYT1NHw"
      }
    },
    {
      "cell_type": "code",
      "source": [
        "# visualizing 'number_of_reviews_ltm' column using boxplot\n",
        "\n",
        "sns.boxplot(data=df1['number_of_reviews_ltm'])"
      ],
      "metadata": {
        "colab": {
          "base_uri": "https://localhost:8080/",
          "height": 447
        },
        "id": "9cLdIp3T1JFy",
        "outputId": "654176dd-ca17-4445-f59b-d5d863300a5c"
      },
      "execution_count": 76,
      "outputs": [
        {
          "output_type": "execute_result",
          "data": {
            "text/plain": [
              "<Axes: >"
            ]
          },
          "metadata": {},
          "execution_count": 76
        },
        {
          "output_type": "display_data",
          "data": {
            "text/plain": [
              "<Figure size 640x480 with 1 Axes>"
            ],
            "image/png": "[encoded data removed]"
          },
          "metadata": {}
        }
      ]
    },
    {
      "cell_type": "markdown",
      "source": [
        "**HERE WE CAN SEE THAT OUTLIERS OF 'number_of_reviews_ltm' COLUMN HAS BEEN PERFORMED.**"
      ],
      "metadata": {
        "id": "aWJIwBYS1bWy"
      }
    },
    {
      "cell_type": "code",
      "source": [
        "# VISUALIZING 'latitude' USING HISTOGRAM.\n",
        "\n",
        "sns.histplot(data=df1['latitude'], kde=True, bins=10)"
      ],
      "metadata": {
        "colab": {
          "base_uri": "https://localhost:8080/",
          "height": 466
        },
        "id": "54Tml7Kqty0g",
        "outputId": "575edc65-ec59-473d-f95d-e4ac4832f0c5"
      },
      "execution_count": 77,
      "outputs": [
        {
          "output_type": "execute_result",
          "data": {
            "text/plain": [
              "<Axes: xlabel='latitude', ylabel='Count'>"
            ]
          },
          "metadata": {},
          "execution_count": 77
        },
        {
          "output_type": "display_data",
          "data": {
            "text/plain": [
              "<Figure size 640x480 with 1 Axes>"
            ],
            "image/png": "[encoded data removed]"
          },
          "metadata": {}
        }
      ]
    },
    {
      "cell_type": "code",
      "source": [
        "# VISUALIZING 'longitude' COLUMN USING HISTOGRAM.\n",
        "\n",
        "sns.histplot(data=df1['longitude'], kde=True, bins=10)"
      ],
      "metadata": {
        "colab": {
          "base_uri": "https://localhost:8080/",
          "height": 466
        },
        "id": "FCJJk5MRt_lg",
        "outputId": "9fe6c4c7-c38e-45b5-fe04-4da6ab14ad6d"
      },
      "execution_count": 78,
      "outputs": [
        {
          "output_type": "execute_result",
          "data": {
            "text/plain": [
              "<Axes: xlabel='longitude', ylabel='Count'>"
            ]
          },
          "metadata": {},
          "execution_count": 78
        },
        {
          "output_type": "display_data",
          "data": {
            "text/plain": [
              "<Figure size 640x480 with 1 Axes>"
            ],
            "image/png": "[encoded data removed]"
          },
          "metadata": {}
        }
      ]
    },
    {
      "cell_type": "markdown",
      "source": [
        "**STEP 6.** **PERFORMING FEATURE SCALING USING STANDARDSCALER.**\n",
        "\n",
        "\n",
        "**1.** **StandardScaler is a data preprocessing technique used to standardize the features of a dataset by transforming them to have zero mean and unit variance.**\n",
        "\n",
        "**2.** **This technique is often used in machine learning algorithms to improve model performance and to facilitate comparisons between different features.**\n",
        "\n",
        "**3.** **StandardScaler is typically applied to continuous numerical data. It helps to ensure that each feature contributes equally to the model, and that the magnitude of the features does not influence the model's performance.**"
      ],
      "metadata": {
        "id": "Zn62QO0M18uD"
      }
    },
    {
      "cell_type": "code",
      "source": [
        "from sklearn.preprocessing import StandardScaler\n",
        "\n",
        "# Select the features you want to scale\n",
        "features_to_scale = ['latitude', 'longitude', 'minimum_nights', 'number_of_reviews', 'reviews_per_month', 'availability_365']\n",
        "\n",
        "# Create a StandardScaler object\n",
        "scaler = StandardScaler()\n",
        "\n",
        "# Apply StandardScaler to the selected features\n",
        "df1[features_to_scale] = scaler.fit_transform(df1[features_to_scale])"
      ],
      "metadata": {
        "id": "cmAX4kLGuEkl"
      },
      "execution_count": null,
      "outputs": []
    },
    {
      "cell_type": "code",
      "source": [
        "from sklearn.preprocessing import StandardScaler\n",
        "\n",
        "# Select the features you want to scale\n",
        "features_to_scale = ['number_of_reviews_ltm']\n",
        "\n",
        "# Create a StandardScaler object\n",
        "scaler = StandardScaler()\n",
        "\n",
        "# Apply StandardScaler to the selected features\n",
        "df1[features_to_scale] = scaler.fit_transform(df1[features_to_scale])"
      ],
      "metadata": {
        "id": "HoTKKrgcuekC"
      },
      "execution_count": null,
      "outputs": []
    },
    {
      "cell_type": "markdown",
      "source": [
        "**STEP 7.**  **SPLITTING THE DATASET AS TRAINING AND TEST VALIDATION.**"
      ],
      "metadata": {
        "id": "TnyBlQjj2Clh"
      }
    },
    {
      "cell_type": "code",
      "source": [
        "X = df1[['latitude', 'longitude', 'minimum_nights', 'number_of_reviews', 'reviews_per_month', 'number_of_reviews_ltm', 'availability_365']]\n",
        "y = df1['price']"
      ],
      "metadata": {
        "id": "dY2B6QKouOyR"
      },
      "execution_count": null,
      "outputs": []
    },
    {
      "cell_type": "code",
      "source": [
        "X1_train, X1_test, y1_train, y1_test = train_test_split(X, y, test_size = 0.2, random_state=10)"
      ],
      "metadata": {
        "id": "wZZbJ7kVuz6P"
      },
      "execution_count": null,
      "outputs": []
    },
    {
      "cell_type": "markdown",
      "source": [
        "**STEP 8.** **TRAINING THE DATASET USING ML MODEL.**\n",
        "\n",
        "**1.** **HERE IN THIS PROJECT I HAVE IMPLEMENTED LINEAR REGRESSION ALGORITHM TO PREDICT PRICE OF AIRBNB HOTEL BOOKING IN REAL TIME.**\n",
        "\n",
        "**2.** **SINCE LINEAR REGRESSION IS ONE OF THE ML MODEL WHICH IS USED FOR FINDING RELATIONSHIP BETWEEN CONTINUOUS VARIABLES.**"
      ],
      "metadata": {
        "id": "aUrsGJv_2zLC"
      }
    },
    {
      "cell_type": "code",
      "source": [
        "from sklearn.linear_model import LinearRegression\n",
        "\n",
        "# Create a LinearRegression object and fit it to the training data\n",
        "regressor = LinearRegression()\n",
        "regressor.fit(X1_train, y1_train)\n",
        "\n",
        "y1_pred = regressor.predict(X1_test)\n",
        "\n",
        "y1_pred"
      ],
      "metadata": {
        "colab": {
          "base_uri": "https://localhost:8080/"
        },
        "id": "4N02Vwkhu6lY",
        "outputId": "0869be77-bfd4-4576-8141-c0a66f8c8b3d"
      },
      "execution_count": null,
      "outputs": [
        {
          "output_type": "execute_result",
          "data": {
            "text/plain": [
              "array([341.02785468, 326.82758626, 368.31377349, ..., 467.07808263,\n",
              "       408.90586299,  30.56700622])"
            ]
          },
          "metadata": {},
          "execution_count": 243
        }
      ]
    },
    {
      "cell_type": "markdown",
      "source": [
        "**STEP 9.** **EVALUATING THE TRAINED ML MODEL WITH TEST DATA USING EVALUATION METRICS TO SEE WHICH MODEL IS BEST FIT.**"
      ],
      "metadata": {
        "id": "IWVe0pVx7zxx"
      }
    },
    {
      "cell_type": "code",
      "source": [
        "from sklearn.metrics import mean_squared_error, mean_absolute_error\n",
        "\n",
        "mse = mean_squared_error(y1_test, y1_pred)\n",
        "rmse = np.sqrt(mse)\n",
        "mae = mean_absolute_error(y1_test, y1_pred)\n",
        "\n",
        "print(\"Mean Squared Error: \", mse)\n",
        "print(\"Root Mean Squared Error: \", rmse)\n",
        "print(\"Mean Absolute Error: \", mae)"
      ],
      "metadata": {
        "colab": {
          "base_uri": "https://localhost:8080/"
        },
        "id": "u2mgVm2su_x7",
        "outputId": "10fc00a5-41ea-4e2d-8efd-e69646346df9"
      },
      "execution_count": null,
      "outputs": [
        {
          "output_type": "stream",
          "name": "stdout",
          "text": [
            "Mean Squared Error:  360882.6049940929\n",
            "Root Mean Squared Error:  600.7350539082041\n",
            "Mean Absolute Error:  281.0266583741986\n"
          ]
        }
      ]
    },
    {
      "cell_type": "markdown",
      "source": [
        "**1. HERE I HAVE USED 3 EVALUATION METRICS TO FIND WHICH ONE BEST FITS THE ML MODEL.**\n",
        "\n",
        "**2.** **FROM THE 3 EVALUATION METRICS, WE SHOULD CONSIDER RMSE AS BEST FIT MODEL OUT OF REST OF 2 EVALUATION MODELS MSE AND MAE.**\n",
        "\n",
        "**3.** **THE REASON FOR CHOOSING RMSE AS BEST FIT MODEL IS BECAUSE RMSE IS MORE INTERPRETABLE IN THE CONTEXT OF THE TARGET VARIABLE, WHICH IS THE PRICE IN THIS CASE.** \n",
        "\n",
        "**4. RMSE WILL GIVE YOU AN ESTIMATE OF HOW MUCH THE PREDICTED PRICES ARE OFF ON AVERAGE, IN THE SAME UNIT AS THE TARGET VARIABLE(i.e., IN DOLLARS, EUROS, OR ANY OTHER CURRENCY).**"
      ],
      "metadata": {
        "id": "t8kFULhh8BCn"
      }
    }
  ]
}